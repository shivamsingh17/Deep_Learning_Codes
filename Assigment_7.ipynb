{
 "cells": [
  {
   "cell_type": "code",
   "execution_count": 1,
   "metadata": {},
   "outputs": [
    {
     "name": "stdout",
     "output_type": "stream",
     "text": [
      "Collecting numpy\n",
      "  Downloading https://files.pythonhosted.org/packages/2d/d4/ddfa53d27e2cdfef261b744df6e4b68134fc69b0d45ad8211e560178c852/numpy-1.15.1-cp37-none-win32.whl (9.9MB)\n",
      "Installing collected packages: numpy\n",
      "Successfully installed numpy-1.15.1\n"
     ]
    },
    {
     "name": "stderr",
     "output_type": "stream",
     "text": [
      "You are using pip version 10.0.1, however version 18.0 is available.\n",
      "You should consider upgrading via the 'python -m pip install --upgrade pip' command.\n"
     ]
    }
   ],
   "source": [
    "!pip install numpy"
   ]
  },
  {
   "cell_type": "code",
   "execution_count": 2,
   "metadata": {},
   "outputs": [
    {
     "name": "stdout",
     "output_type": "stream",
     "text": [
      "Collecting pandas\n",
      "  Downloading https://files.pythonhosted.org/packages/26/fc/d0509d445d2724fbc5f9c9a6fc9ce7da794873469739b6c94afc166ac2a2/pandas-0.23.4-cp37-cp37m-win32.whl (6.8MB)\n",
      "Collecting pytz>=2011k (from pandas)\n",
      "  Downloading https://files.pythonhosted.org/packages/30/4e/27c34b62430286c6d59177a0842ed90dc789ce5d1ed740887653b898779a/pytz-2018.5-py2.py3-none-any.whl (510kB)\n",
      "Requirement already satisfied: numpy>=1.9.0 in c:\\users\\shivam singh\\appdata\\local\\programs\\python\\python37-32\\lib\\site-packages (from pandas) (1.15.1)\n",
      "Requirement already satisfied: python-dateutil>=2.5.0 in c:\\users\\shivam singh\\appdata\\local\\programs\\python\\python37-32\\lib\\site-packages (from pandas) (2.7.3)\n",
      "Requirement already satisfied: six>=1.5 in c:\\users\\shivam singh\\appdata\\local\\programs\\python\\python37-32\\lib\\site-packages (from python-dateutil>=2.5.0->pandas) (1.11.0)\n",
      "Installing collected packages: pytz, pandas\n",
      "Successfully installed pandas-0.23.4 pytz-2018.5\n"
     ]
    },
    {
     "name": "stderr",
     "output_type": "stream",
     "text": [
      "You are using pip version 10.0.1, however version 18.0 is available.\n",
      "You should consider upgrading via the 'python -m pip install --upgrade pip' command.\n"
     ]
    }
   ],
   "source": [
    "!pip install pandas"
   ]
  },
  {
   "cell_type": "code",
   "execution_count": 3,
   "metadata": {},
   "outputs": [
    {
     "name": "stdout",
     "output_type": "stream",
     "text": [
      "Collecting matplotlib\n",
      "  Downloading https://files.pythonhosted.org/packages/d3/f9/1d64728ec21c821f83ca97ad21e819de8705a436e8a0f9d1ada98d13c79d/matplotlib-3.0.0-cp37-cp37m-win32.whl (8.7MB)\n",
      "Requirement already satisfied: python-dateutil>=2.1 in c:\\users\\shivam singh\\appdata\\local\\programs\\python\\python37-32\\lib\\site-packages (from matplotlib) (2.7.3)\n",
      "Requirement already satisfied: numpy>=1.10.0 in c:\\users\\shivam singh\\appdata\\local\\programs\\python\\python37-32\\lib\\site-packages (from matplotlib) (1.15.1)\n",
      "Collecting kiwisolver>=1.0.1 (from matplotlib)\n",
      "  Downloading https://files.pythonhosted.org/packages/63/95/6e03c1e40776851eda7af2e9b014bcf510e3205033c33b604c2ee36687a1/kiwisolver-1.0.1-cp37-none-win32.whl (44kB)\n",
      "Collecting pyparsing!=2.0.4,!=2.1.2,!=2.1.6,>=2.0.1 (from matplotlib)\n",
      "  Downloading https://files.pythonhosted.org/packages/42/47/e6d51aef3d0393f7d343592d63a73beee2a8d3d69c22b053e252c6cfacd5/pyparsing-2.2.1-py2.py3-none-any.whl (57kB)\n",
      "Collecting cycler>=0.10 (from matplotlib)\n",
      "  Using cached https://files.pythonhosted.org/packages/f7/d2/e07d3ebb2bd7af696440ce7e754c59dd546ffe1bbe732c8ab68b9c834e61/cycler-0.10.0-py2.py3-none-any.whl\n",
      "Requirement already satisfied: six>=1.5 in c:\\users\\shivam singh\\appdata\\local\\programs\\python\\python37-32\\lib\\site-packages (from python-dateutil>=2.1->matplotlib) (1.11.0)\n",
      "Requirement already satisfied: setuptools in c:\\users\\shivam singh\\appdata\\local\\programs\\python\\python37-32\\lib\\site-packages (from kiwisolver>=1.0.1->matplotlib) (39.0.1)\n",
      "Installing collected packages: kiwisolver, pyparsing, cycler, matplotlib\n",
      "Successfully installed cycler-0.10.0 kiwisolver-1.0.1 matplotlib-3.0.0 pyparsing-2.2.1\n"
     ]
    },
    {
     "name": "stderr",
     "output_type": "stream",
     "text": [
      "You are using pip version 10.0.1, however version 18.0 is available.\n",
      "You should consider upgrading via the 'python -m pip install --upgrade pip' command.\n"
     ]
    }
   ],
   "source": [
    "!pip install matplotlib"
   ]
  },
  {
   "cell_type": "code",
   "execution_count": 3,
   "metadata": {
    "colab": {
     "base_uri": "https://localhost:8080/",
     "height": 347
    },
    "colab_type": "code",
    "id": "UYjznk11ahGb",
    "outputId": "80debd02-72e1-4e3c-f307-cdb83402c0a0"
   },
   "outputs": [
    {
     "data": {
      "image/png": "[encoded data removed]",
      "text/plain": [
       "<Figure size 432x288 with 2 Axes>"
      ]
     },
     "metadata": {
      "needs_background": "light"
     },
     "output_type": "display_data"
    }
   ],
   "source": [
    "import numpy as np\n",
    "import matplotlib.pyplot as plt\n",
    "%matplotlib inline\n",
    "def f(t):\n",
    "    return np.exp(-t) * np.cos(2*np.pi*t)\n",
    "\n",
    "t1 = np.arange(0.0, 5.0, 0.1)\n",
    "t2 = np.arange(0.0, 5.0, 0.02)\n",
    "\n",
    "plt.figure(1)\n",
    "plt.subplot(211)\n",
    "plt.plot(t1, f(t1), 'bo', t2, f(t2), 'k')\n",
    "\n",
    "plt.subplot(212)\n",
    "plt.plot(t2, np.cos(2*np.pi*t2), 'r--')\n",
    "plt.show()     "
   ]
  },
  {
   "cell_type": "code",
   "execution_count": 4,
   "metadata": {
    "colab": {},
    "colab_type": "code",
    "id": "N5m2MP7RalZl"
   },
   "outputs": [],
   "source": [
    "w = np.load('F:\\\\DeepLearning_NPTEL\\\\WEEK7\\\\weights\\\\weights_after_epoch_0.npy')"
   ]
  },
  {
   "cell_type": "code",
   "execution_count": 5,
   "metadata": {
    "colab": {
     "base_uri": "https://localhost:8080/",
     "height": 159
    },
    "colab_type": "code",
    "id": "0hUR3ZqNqwOS",
    "outputId": "e08654c0-b20a-4c0e-9b53-bf4dbcef2c5c"
   },
   "outputs": [
    {
     "data": {
      "text/plain": [
       "array([[ 0.25008539,  0.70445457,  0.1587082 ,  0.43054321,  0.26483861,\n",
       "         0.43260431,  0.21702123,  0.40871228,  0.94455534,  0.53837901,\n",
       "         0.78661373,  0.54700948,  0.33305398,  0.67703856,  0.03145958,\n",
       "        -0.11449891, -0.60665718,  0.79129729,  0.96109767,  0.55657989,\n",
       "         0.95023645,  0.09521403,  0.37170334,  0.18322878, -0.17092661,\n",
       "         0.47852233, -0.28740263,  0.65447856,  0.45093357,  0.34838723,\n",
       "         0.3010536 ,  0.11006918,  0.45655649,  0.6861629 ,  0.0277843 ,\n",
       "         0.57139552,  0.8376329 ,  0.75700116,  0.98963601,  0.37779808]])"
      ]
     },
     "execution_count": 5,
     "metadata": {},
     "output_type": "execute_result"
    }
   ],
   "source": [
    "w# has 40 values to be multiplied with 40 features"
   ]
  },
  {
   "cell_type": "code",
   "execution_count": 6,
   "metadata": {
    "colab": {},
    "colab_type": "code",
    "id": "G4RK5D9oq1Vn"
   },
   "outputs": [],
   "source": [
    "import pandas as pd\n",
    "\n",
    "df = pd.read_csv('training_data.csv')"
   ]
  },
  {
   "cell_type": "code",
   "execution_count": 7,
   "metadata": {
    "colab": {
     "base_uri": "https://localhost:8080/",
     "height": 249
    },
    "colab_type": "code",
    "id": "WVtDFoxe43mH",
    "outputId": "0402b6ed-4cbb-4c79-ad2b-dfd9065f211d"
   },
   "outputs": [
    {
     "data": {
      "text/html": [
       "<div>\n",
       "<style scoped>\n",
       "    .dataframe tbody tr th:only-of-type {\n",
       "        vertical-align: middle;\n",
       "    }\n",
       "\n",
       "    .dataframe tbody tr th {\n",
       "        vertical-align: top;\n",
       "    }\n",
       "\n",
       "    .dataframe thead th {\n",
       "        text-align: right;\n",
       "    }\n",
       "</style>\n",
       "<table border=\"1\" class=\"dataframe\">\n",
       "  <thead>\n",
       "    <tr style=\"text-align: right;\">\n",
       "      <th></th>\n",
       "      <th>Feature0</th>\n",
       "      <th>Feature1</th>\n",
       "      <th>Feature2</th>\n",
       "      <th>Feature3</th>\n",
       "      <th>Feature4</th>\n",
       "      <th>Feature5</th>\n",
       "      <th>Feature6</th>\n",
       "      <th>Feature7</th>\n",
       "      <th>Feature8</th>\n",
       "      <th>Feature9</th>\n",
       "      <th>...</th>\n",
       "      <th>Feature31</th>\n",
       "      <th>Feature32</th>\n",
       "      <th>Feature33</th>\n",
       "      <th>Feature34</th>\n",
       "      <th>Feature35</th>\n",
       "      <th>Feature36</th>\n",
       "      <th>Feature37</th>\n",
       "      <th>Feature38</th>\n",
       "      <th>Feature39</th>\n",
       "      <th>Y</th>\n",
       "    </tr>\n",
       "  </thead>\n",
       "  <tbody>\n",
       "    <tr>\n",
       "      <th>795</th>\n",
       "      <td>-1.893106</td>\n",
       "      <td>0.229202</td>\n",
       "      <td>0.925361</td>\n",
       "      <td>-0.774187</td>\n",
       "      <td>-0.395577</td>\n",
       "      <td>-1.166187</td>\n",
       "      <td>0.515452</td>\n",
       "      <td>-0.798022</td>\n",
       "      <td>-0.736042</td>\n",
       "      <td>0.151649</td>\n",
       "      <td>...</td>\n",
       "      <td>-0.891885</td>\n",
       "      <td>-0.731500</td>\n",
       "      <td>-0.318058</td>\n",
       "      <td>1.145374</td>\n",
       "      <td>-0.173957</td>\n",
       "      <td>0.867248</td>\n",
       "      <td>0.183176</td>\n",
       "      <td>0.739168</td>\n",
       "      <td>2.340454</td>\n",
       "      <td>1.060224</td>\n",
       "    </tr>\n",
       "    <tr>\n",
       "      <th>796</th>\n",
       "      <td>1.060390</td>\n",
       "      <td>-3.391896</td>\n",
       "      <td>0.384466</td>\n",
       "      <td>-0.372047</td>\n",
       "      <td>-0.544664</td>\n",
       "      <td>-0.157623</td>\n",
       "      <td>-0.104150</td>\n",
       "      <td>1.574440</td>\n",
       "      <td>0.288767</td>\n",
       "      <td>-1.533450</td>\n",
       "      <td>...</td>\n",
       "      <td>0.506848</td>\n",
       "      <td>-0.263594</td>\n",
       "      <td>2.175428</td>\n",
       "      <td>-0.789967</td>\n",
       "      <td>-0.534759</td>\n",
       "      <td>-1.000773</td>\n",
       "      <td>-1.825980</td>\n",
       "      <td>0.026087</td>\n",
       "      <td>-0.818552</td>\n",
       "      <td>1.752423</td>\n",
       "    </tr>\n",
       "    <tr>\n",
       "      <th>797</th>\n",
       "      <td>-0.406935</td>\n",
       "      <td>1.092740</td>\n",
       "      <td>1.026037</td>\n",
       "      <td>-0.455601</td>\n",
       "      <td>0.429971</td>\n",
       "      <td>-0.201686</td>\n",
       "      <td>-0.744592</td>\n",
       "      <td>-0.599751</td>\n",
       "      <td>0.325869</td>\n",
       "      <td>0.443514</td>\n",
       "      <td>...</td>\n",
       "      <td>0.426187</td>\n",
       "      <td>-0.634958</td>\n",
       "      <td>-0.076478</td>\n",
       "      <td>-0.090903</td>\n",
       "      <td>0.453322</td>\n",
       "      <td>1.527197</td>\n",
       "      <td>0.950067</td>\n",
       "      <td>1.610691</td>\n",
       "      <td>1.035774</td>\n",
       "      <td>1.837148</td>\n",
       "    </tr>\n",
       "    <tr>\n",
       "      <th>798</th>\n",
       "      <td>0.431802</td>\n",
       "      <td>0.431543</td>\n",
       "      <td>-1.186118</td>\n",
       "      <td>-1.206951</td>\n",
       "      <td>-2.529808</td>\n",
       "      <td>1.256329</td>\n",
       "      <td>0.580786</td>\n",
       "      <td>0.441038</td>\n",
       "      <td>-0.195113</td>\n",
       "      <td>-0.053685</td>\n",
       "      <td>...</td>\n",
       "      <td>0.476928</td>\n",
       "      <td>1.217656</td>\n",
       "      <td>-0.581692</td>\n",
       "      <td>-0.574102</td>\n",
       "      <td>-1.087868</td>\n",
       "      <td>0.337028</td>\n",
       "      <td>0.928790</td>\n",
       "      <td>1.909742</td>\n",
       "      <td>1.155241</td>\n",
       "      <td>1.809534</td>\n",
       "    </tr>\n",
       "    <tr>\n",
       "      <th>799</th>\n",
       "      <td>-1.390840</td>\n",
       "      <td>1.401118</td>\n",
       "      <td>-0.846073</td>\n",
       "      <td>0.241003</td>\n",
       "      <td>1.023614</td>\n",
       "      <td>1.466508</td>\n",
       "      <td>1.050089</td>\n",
       "      <td>1.174774</td>\n",
       "      <td>1.539193</td>\n",
       "      <td>0.439347</td>\n",
       "      <td>...</td>\n",
       "      <td>1.912378</td>\n",
       "      <td>0.357352</td>\n",
       "      <td>-0.913688</td>\n",
       "      <td>1.283766</td>\n",
       "      <td>-0.621231</td>\n",
       "      <td>0.035751</td>\n",
       "      <td>1.052591</td>\n",
       "      <td>0.371461</td>\n",
       "      <td>-0.887523</td>\n",
       "      <td>1.844247</td>\n",
       "    </tr>\n",
       "  </tbody>\n",
       "</table>\n",
       "<p>5 rows × 41 columns</p>\n",
       "</div>"
      ],
      "text/plain": [
       "     Feature0  Feature1  Feature2  Feature3  Feature4  Feature5  Feature6  \\\n",
       "795 -1.893106  0.229202  0.925361 -0.774187 -0.395577 -1.166187  0.515452   \n",
       "796  1.060390 -3.391896  0.384466 -0.372047 -0.544664 -0.157623 -0.104150   \n",
       "797 -0.406935  1.092740  1.026037 -0.455601  0.429971 -0.201686 -0.744592   \n",
       "798  0.431802  0.431543 -1.186118 -1.206951 -2.529808  1.256329  0.580786   \n",
       "799 -1.390840  1.401118 -0.846073  0.241003  1.023614  1.466508  1.050089   \n",
       "\n",
       "     Feature7  Feature8  Feature9    ...     Feature31  Feature32  Feature33  \\\n",
       "795 -0.798022 -0.736042  0.151649    ...     -0.891885  -0.731500  -0.318058   \n",
       "796  1.574440  0.288767 -1.533450    ...      0.506848  -0.263594   2.175428   \n",
       "797 -0.599751  0.325869  0.443514    ...      0.426187  -0.634958  -0.076478   \n",
       "798  0.441038 -0.195113 -0.053685    ...      0.476928   1.217656  -0.581692   \n",
       "799  1.174774  1.539193  0.439347    ...      1.912378   0.357352  -0.913688   \n",
       "\n",
       "     Feature34  Feature35  Feature36  Feature37  Feature38  Feature39  \\\n",
       "795   1.145374  -0.173957   0.867248   0.183176   0.739168   2.340454   \n",
       "796  -0.789967  -0.534759  -1.000773  -1.825980   0.026087  -0.818552   \n",
       "797  -0.090903   0.453322   1.527197   0.950067   1.610691   1.035774   \n",
       "798  -0.574102  -1.087868   0.337028   0.928790   1.909742   1.155241   \n",
       "799   1.283766  -0.621231   0.035751   1.052591   0.371461  -0.887523   \n",
       "\n",
       "            Y  \n",
       "795  1.060224  \n",
       "796  1.752423  \n",
       "797  1.837148  \n",
       "798  1.809534  \n",
       "799  1.844247  \n",
       "\n",
       "[5 rows x 41 columns]"
      ]
     },
     "execution_count": 7,
     "metadata": {},
     "output_type": "execute_result"
    }
   ],
   "source": [
    "df.tail()"
   ]
  },
  {
   "cell_type": "code",
   "execution_count": 8,
   "metadata": {
    "colab": {
     "base_uri": "https://localhost:8080/",
     "height": 249
    },
    "colab_type": "code",
    "id": "aVy1UvWW4_Lh",
    "outputId": "aeed105d-b187-4e21-cbb9-3a9f8765008c"
   },
   "outputs": [
    {
     "data": {
      "text/html": [
       "<div>\n",
       "<style scoped>\n",
       "    .dataframe tbody tr th:only-of-type {\n",
       "        vertical-align: middle;\n",
       "    }\n",
       "\n",
       "    .dataframe tbody tr th {\n",
       "        vertical-align: top;\n",
       "    }\n",
       "\n",
       "    .dataframe thead th {\n",
       "        text-align: right;\n",
       "    }\n",
       "</style>\n",
       "<table border=\"1\" class=\"dataframe\">\n",
       "  <thead>\n",
       "    <tr style=\"text-align: right;\">\n",
       "      <th></th>\n",
       "      <th>Feature0</th>\n",
       "      <th>Feature1</th>\n",
       "      <th>Feature2</th>\n",
       "      <th>Feature3</th>\n",
       "      <th>Feature4</th>\n",
       "      <th>Feature5</th>\n",
       "      <th>Feature6</th>\n",
       "      <th>Feature7</th>\n",
       "      <th>Feature8</th>\n",
       "      <th>Feature9</th>\n",
       "      <th>...</th>\n",
       "      <th>Feature30</th>\n",
       "      <th>Feature31</th>\n",
       "      <th>Feature32</th>\n",
       "      <th>Feature33</th>\n",
       "      <th>Feature34</th>\n",
       "      <th>Feature35</th>\n",
       "      <th>Feature36</th>\n",
       "      <th>Feature37</th>\n",
       "      <th>Feature38</th>\n",
       "      <th>Feature39</th>\n",
       "    </tr>\n",
       "  </thead>\n",
       "  <tbody>\n",
       "    <tr>\n",
       "      <th>0</th>\n",
       "      <td>0.140514</td>\n",
       "      <td>-0.533037</td>\n",
       "      <td>1.478885</td>\n",
       "      <td>-0.050549</td>\n",
       "      <td>0.504151</td>\n",
       "      <td>-0.440043</td>\n",
       "      <td>1.812464</td>\n",
       "      <td>-0.095540</td>\n",
       "      <td>0.891967</td>\n",
       "      <td>1.617159</td>\n",
       "      <td>...</td>\n",
       "      <td>0.549028</td>\n",
       "      <td>-1.872650</td>\n",
       "      <td>-0.135790</td>\n",
       "      <td>0.091042</td>\n",
       "      <td>0.566925</td>\n",
       "      <td>-0.219366</td>\n",
       "      <td>0.569566</td>\n",
       "      <td>0.547480</td>\n",
       "      <td>0.097368</td>\n",
       "      <td>0.123405</td>\n",
       "    </tr>\n",
       "    <tr>\n",
       "      <th>1</th>\n",
       "      <td>-0.898200</td>\n",
       "      <td>-0.782070</td>\n",
       "      <td>0.108701</td>\n",
       "      <td>1.364893</td>\n",
       "      <td>0.593578</td>\n",
       "      <td>-0.902526</td>\n",
       "      <td>-0.082300</td>\n",
       "      <td>1.179372</td>\n",
       "      <td>-0.518053</td>\n",
       "      <td>-0.225826</td>\n",
       "      <td>...</td>\n",
       "      <td>-0.129789</td>\n",
       "      <td>-1.288518</td>\n",
       "      <td>-0.180014</td>\n",
       "      <td>0.859563</td>\n",
       "      <td>0.124860</td>\n",
       "      <td>-0.250582</td>\n",
       "      <td>-0.700927</td>\n",
       "      <td>0.482043</td>\n",
       "      <td>-0.206814</td>\n",
       "      <td>1.202387</td>\n",
       "    </tr>\n",
       "    <tr>\n",
       "      <th>2</th>\n",
       "      <td>-0.813415</td>\n",
       "      <td>0.344493</td>\n",
       "      <td>1.595646</td>\n",
       "      <td>-0.145575</td>\n",
       "      <td>1.291868</td>\n",
       "      <td>0.029102</td>\n",
       "      <td>-1.304461</td>\n",
       "      <td>0.737832</td>\n",
       "      <td>0.087635</td>\n",
       "      <td>0.443799</td>\n",
       "      <td>...</td>\n",
       "      <td>-0.836561</td>\n",
       "      <td>-1.022622</td>\n",
       "      <td>2.265219</td>\n",
       "      <td>0.391877</td>\n",
       "      <td>0.042783</td>\n",
       "      <td>1.893751</td>\n",
       "      <td>-0.432940</td>\n",
       "      <td>-0.703125</td>\n",
       "      <td>0.866596</td>\n",
       "      <td>-0.529517</td>\n",
       "    </tr>\n",
       "    <tr>\n",
       "      <th>3</th>\n",
       "      <td>-1.375832</td>\n",
       "      <td>-1.649615</td>\n",
       "      <td>-0.042596</td>\n",
       "      <td>-1.084870</td>\n",
       "      <td>-0.608164</td>\n",
       "      <td>0.817495</td>\n",
       "      <td>0.297666</td>\n",
       "      <td>-0.346243</td>\n",
       "      <td>-0.533978</td>\n",
       "      <td>1.122233</td>\n",
       "      <td>...</td>\n",
       "      <td>0.363916</td>\n",
       "      <td>-0.203589</td>\n",
       "      <td>0.235016</td>\n",
       "      <td>-0.290859</td>\n",
       "      <td>-0.180092</td>\n",
       "      <td>-0.299549</td>\n",
       "      <td>0.512530</td>\n",
       "      <td>-0.955217</td>\n",
       "      <td>1.774759</td>\n",
       "      <td>0.684536</td>\n",
       "    </tr>\n",
       "    <tr>\n",
       "      <th>4</th>\n",
       "      <td>-1.046623</td>\n",
       "      <td>0.965945</td>\n",
       "      <td>-0.326887</td>\n",
       "      <td>0.165514</td>\n",
       "      <td>0.109975</td>\n",
       "      <td>0.874498</td>\n",
       "      <td>1.197480</td>\n",
       "      <td>-0.201127</td>\n",
       "      <td>0.230544</td>\n",
       "      <td>-0.743749</td>\n",
       "      <td>...</td>\n",
       "      <td>1.196975</td>\n",
       "      <td>0.079365</td>\n",
       "      <td>-0.347910</td>\n",
       "      <td>0.771725</td>\n",
       "      <td>0.368069</td>\n",
       "      <td>1.173361</td>\n",
       "      <td>-0.895052</td>\n",
       "      <td>0.704253</td>\n",
       "      <td>-0.585195</td>\n",
       "      <td>1.094100</td>\n",
       "    </tr>\n",
       "  </tbody>\n",
       "</table>\n",
       "<p>5 rows × 40 columns</p>\n",
       "</div>"
      ],
      "text/plain": [
       "   Feature0  Feature1  Feature2  Feature3  Feature4  Feature5  Feature6  \\\n",
       "0  0.140514 -0.533037  1.478885 -0.050549  0.504151 -0.440043  1.812464   \n",
       "1 -0.898200 -0.782070  0.108701  1.364893  0.593578 -0.902526 -0.082300   \n",
       "2 -0.813415  0.344493  1.595646 -0.145575  1.291868  0.029102 -1.304461   \n",
       "3 -1.375832 -1.649615 -0.042596 -1.084870 -0.608164  0.817495  0.297666   \n",
       "4 -1.046623  0.965945 -0.326887  0.165514  0.109975  0.874498  1.197480   \n",
       "\n",
       "   Feature7  Feature8  Feature9    ...      Feature30  Feature31  Feature32  \\\n",
       "0 -0.095540  0.891967  1.617159    ...       0.549028  -1.872650  -0.135790   \n",
       "1  1.179372 -0.518053 -0.225826    ...      -0.129789  -1.288518  -0.180014   \n",
       "2  0.737832  0.087635  0.443799    ...      -0.836561  -1.022622   2.265219   \n",
       "3 -0.346243 -0.533978  1.122233    ...       0.363916  -0.203589   0.235016   \n",
       "4 -0.201127  0.230544 -0.743749    ...       1.196975   0.079365  -0.347910   \n",
       "\n",
       "   Feature33  Feature34  Feature35  Feature36  Feature37  Feature38  Feature39  \n",
       "0   0.091042   0.566925  -0.219366   0.569566   0.547480   0.097368   0.123405  \n",
       "1   0.859563   0.124860  -0.250582  -0.700927   0.482043  -0.206814   1.202387  \n",
       "2   0.391877   0.042783   1.893751  -0.432940  -0.703125   0.866596  -0.529517  \n",
       "3  -0.290859  -0.180092  -0.299549   0.512530  -0.955217   1.774759   0.684536  \n",
       "4   0.771725   0.368069   1.173361  -0.895052   0.704253  -0.585195   1.094100  \n",
       "\n",
       "[5 rows x 40 columns]"
      ]
     },
     "execution_count": 8,
     "metadata": {},
     "output_type": "execute_result"
    }
   ],
   "source": [
    "df.loc[:,'Feature0': 'Feature39'].head()"
   ]
  },
  {
   "cell_type": "code",
   "execution_count": 9,
   "metadata": {
    "colab": {},
    "colab_type": "code",
    "id": "BwHAxMn15CX9"
   },
   "outputs": [],
   "source": [
    "#extracting columns \n",
    "#df.loc[: , \"Feature0\"]\n",
    "df1 = df.loc[0,'Feature0': 'Feature39']\n",
    "\n",
    "x= df1.values"
   ]
  },
  {
   "cell_type": "code",
   "execution_count": 10,
   "metadata": {
    "colab": {
     "base_uri": "https://localhost:8080/",
     "height": 141
    },
    "colab_type": "code",
    "id": "Zptv1slV6o6s",
    "outputId": "98fc37c1-eb96-4bee-ba9e-2d96c2a61fb0"
   },
   "outputs": [
    {
     "name": "stdout",
     "output_type": "stream",
     "text": [
      "[[ 0.03514061 -0.37550064  0.23471118 -0.02176369  0.13351873 -0.19036445\n",
      "   0.39334323 -0.03904855  0.84251238  0.87064421 -0.2953957   0.22333949\n",
      "  -0.07260544 -0.14211495 -0.0431925   0.0506026   1.12538147  0.22010272\n",
      "   0.50446195  0.17945232  0.15262788 -0.06419907 -0.15369651 -0.25688189\n",
      "   0.17910916 -0.14910735  0.04243295 -0.3487504  -0.23531965  0.28030193\n",
      "   0.16528699 -0.20612108 -0.0619959   0.06246993  0.01575161 -0.12534461\n",
      "   0.47708739  0.41444298  0.09635871  0.04662233]]\n"
     ]
    }
   ],
   "source": [
    "i = w*x\n",
    "print(i)"
   ]
  },
  {
   "cell_type": "code",
   "execution_count": 11,
   "metadata": {
    "colab": {
     "base_uri": "https://localhost:8080/",
     "height": 184
    },
    "colab_type": "code",
    "id": "83R9iJVT7_T4",
    "outputId": "09d05219-6a89-4566-a9de-7944e18eb583"
   },
   "outputs": [
    {
     "data": {
      "image/png": "[encoded data removed]",
      "text/plain": [
       "<Figure size 432x288 with 1 Axes>"
      ]
     },
     "metadata": {
      "needs_background": "light"
     },
     "output_type": "display_data"
    }
   ],
   "source": [
    "plt.figure(1)\n",
    "plt.subplot(211)\n",
    "plt.plot(i,f(i),  'bo', t2, f(t2), 'k')\n",
    "plt.show()"
   ]
  },
  {
   "cell_type": "code",
   "execution_count": 12,
   "metadata": {
    "colab": {},
    "colab_type": "code",
    "id": "IwPKFoU9B3Ea"
   },
   "outputs": [],
   "source": [
    "def sigmoid(input):\n",
    "    return 1.0 / (1.0 + np.exp(-(input)))"
   ]
  },
  {
   "cell_type": "code",
   "execution_count": 13,
   "metadata": {
    "colab": {},
    "colab_type": "code",
    "id": "aUBvGSQWRCGc"
   },
   "outputs": [],
   "source": [
    "m = np.sum(i)\n",
    "Y_hat = sigmoid(m)"
   ]
  },
  {
   "cell_type": "code",
   "execution_count": 14,
   "metadata": {
    "colab": {
     "base_uri": "https://localhost:8080/",
     "height": 124
    },
    "colab_type": "code",
    "id": "6G8JJCacXHow",
    "outputId": "6b0b4ddf-0006-4375-b5ed-60555371e9fe"
   },
   "outputs": [
    {
     "data": {
      "text/plain": [
       "0    1.342829\n",
       "1    0.876341\n",
       "2    1.827752\n",
       "3    1.841433\n",
       "4    1.728270\n",
       "Name: Y, dtype: float64"
      ]
     },
     "execution_count": 14,
     "metadata": {},
     "output_type": "execute_result"
    }
   ],
   "source": [
    "m\n",
    "Y_train = df['Y']\n",
    "Y_train.head()"
   ]
  },
  {
   "cell_type": "code",
   "execution_count": 15,
   "metadata": {
    "colab": {},
    "colab_type": "code",
    "id": "2gGZjwmMQwzJ"
   },
   "outputs": [],
   "source": [
    "def error(Y, Y_hat): #Calculate the error\n",
    "    err = 0.0\n",
    "    #for x,y in zip(X,Y) :\n",
    "        #fx = f(w, b, x)\n",
    "    err += 0.5 * (Y_hat - Y) ** 2\n",
    "    return err"
   ]
  },
  {
   "cell_type": "code",
   "execution_count": 16,
   "metadata": {
    "colab": {
     "base_uri": "https://localhost:8080/",
     "height": 35
    },
    "colab_type": "code",
    "id": "-ZrZ90M9IVtW",
    "outputId": "a851a94f-532c-42c9-904f-9587dbbce77b"
   },
   "outputs": [
    {
     "data": {
      "text/plain": [
       "1.3428289913999998"
      ]
     },
     "execution_count": 16,
     "metadata": {},
     "output_type": "execute_result"
    }
   ],
   "source": [
    "Y_train[0]"
   ]
  },
  {
   "cell_type": "code",
   "execution_count": 17,
   "metadata": {
    "colab": {
     "base_uri": "https://localhost:8080/",
     "height": 35
    },
    "colab_type": "code",
    "id": "lOsfWYU8IZ3t",
    "outputId": "edd975da-bc33-42c0-ef6a-bd33bc174cf9"
   },
   "outputs": [
    {
     "data": {
      "text/plain": [
       "0.06532548189761621"
      ]
     },
     "execution_count": 17,
     "metadata": {},
     "output_type": "execute_result"
    }
   ],
   "source": [
    "error(Y_train[0], Y_hat)\n",
    "#for one sample in dataset for epoch 0"
   ]
  },
  {
   "cell_type": "code",
   "execution_count": 18,
   "metadata": {
    "colab": {
     "base_uri": "https://localhost:8080/",
     "height": 35
    },
    "colab_type": "code",
    "id": "CgrRKqdeIlRG",
    "outputId": "8f968163-3d92-4c87-9c50-e0486aee3972"
   },
   "outputs": [
    {
     "name": "stdout",
     "output_type": "stream",
     "text": [
      "[4 5]\n"
     ]
    }
   ],
   "source": [
    "df800 = df.loc[799,'Feature0': 'Feature39']\n",
    "a = []\n",
    "a = a+[4]+[5]\n",
    "b= np.array(a)\n",
    "print(b)"
   ]
  },
  {
   "cell_type": "code",
   "execution_count": null,
   "metadata": {
    "colab": {},
    "colab_type": "code",
    "id": "_lHD7UN2Nrzf"
   },
   "outputs": [],
   "source": []
  },
  {
   "cell_type": "markdown",
   "metadata": {
    "colab_type": "text",
    "id": "08Haoy6WNuOc"
   },
   "source": [
    "#Training  error"
   ]
  },
  {
   "cell_type": "code",
   "execution_count": 19,
   "metadata": {
    "colab": {
     "base_uri": "https://localhost:8080/",
     "height": 72
    },
    "colab_type": "code",
    "id": "9Yg9tG9bJ--a",
    "outputId": "e6cf3781-fc95-439f-96c1-cee49218888e"
   },
   "outputs": [
    {
     "name": "stdout",
     "output_type": "stream",
     "text": [
      "[0.06532548189761621, 0.2771879473169689, 0.34860079489196766, 0.3584023383256977, 0.45155001133314077, 0.36963888752932444, 0.3590152571342977, 0.3936286345323683, 0.5581669995531066, 0.31747503873965793, 0.4738458079438282, 0.5305043837466803, 0.11682406800717457, 0.35626254330180585, 0.189038669136016, 0.3444362695360266, 0.36060755061015115, 0.3537689254863154, 0.09206425086887345, 0.35468467138398563, 0.3565860736972872, 0.3536778367284563, 0.3436437083938334, 0.37900047268445364, 0.47173077138024117, 0.34890975783596223, 0.032516451443058265, 0.35238203298640874, 0.36591679980186176, 0.4685161460236396, 0.15678787660934096, 0.47527133533677507, 0.7155872887156418, 0.38647541141993436, 0.3602415222078922, 0.3565053240598021, 0.3504540524188426, 0.3566096900819953, 0.323700477112027, 0.38852315570788815, 0.3968690523312162, 0.38724373483219854, 0.5086161249400439, 0.04038991087955686, 0.4171805464957037, 0.3942433450475754, 0.326002780665649, 0.35638642402191445, 0.3700743633685885, 0.2762066621294603, 0.26608703717244075, 0.35321283613629484, 0.29702742967816753, 0.3756384065677279, 0.23791470587948785, 0.367439576218554, 0.21567771412678666, 0.3571115185048059, 0.2846434196638144, 0.4880818662794347, 0.23870625219838273, 0.3456670265051215, 0.4117039099248247, 0.12753744297635752, 0.35556252015202416, 0.35535800896016434, 0.41500921870285373, 0.3202505508588154, 0.24949344187828387, 0.3944530898886289, 0.31683227470528874, 0.3074949437733773, 0.15506459764007113, 0.3377481051661949, 0.36435305575321963, 0.33814307929259246, 0.32674487423398685, 0.7949308247623162, 0.35482679949810303, 0.3890477342367281, 0.7358864781672034, 0.36535753452323255, 0.35672745778976467, 0.3567753802231752, 0.34924517395183574, 0.35437081789121955, 0.205037433294576, 0.3599119308077774, 0.018228714778464685, 0.40109429446622114, 0.36404029655663356, 0.17000159006285012, 0.35907281446800804, 0.3854806332897534, 0.31600410764573594, 0.38453675834746104, 0.2068455722435405, 0.4167397080797495, 0.4810076236184629, 0.3539790082974398, 0.1513578645771601, 0.31478172411857724, 0.35820857252895266, 0.36658355595689335, 0.5590166804866231, 0.3596800386612435, 0.3358118094585329, 0.272594784337914, 0.24379387094629695, 0.11326886810285261, 0.10849832332798408, 0.3620749422541619, 0.13444416131979603, 0.34637502487359295, 0.3483649766028128, 0.7696795793330956, 0.26865035049064523, 0.3054822478063521, 0.24300636085765623, 0.4263365387010222, 0.3776000274587771, 0.3032026265915142, 0.4516178427017285, 0.2731213070098322, 0.30419591413585145, 0.6056915540393201, 0.3541425275823138, 0.26371899276650557, 0.2536318797362385, 0.3966092728282836, 0.4339550571669508, 0.2861325431767407, 0.043389078471867154, 0.12033286072790383, 0.707508993163632, 0.4323930626745303, 0.3055098123591706, 0.35182471521005537, 0.28112682651126, 0.2895282766162863, 0.05181160213239388, 0.4065331800836675, 0.3374565992936575, 0.2698513698842543, 0.3775358561751941, 0.1800127571289356, 0.3570969155989186, 0.5683847053777742, 0.28066817319722887, 0.35652707694451913, 0.38522869298504764, 0.3981446125708547, 0.2679655718652317, 0.33187650701129573, 0.35866539202720926, 0.2465883333115713, 0.5970043189307864, 0.1675202423213975, 0.3488887205237245, 0.3780412306817953, 0.3156564780374347, 0.6891784763716293, 0.7737648441691404, 0.3334264072141669, 0.3840506071446209, 0.30632092960790375, 0.3541203453958593, 0.6790813002869404, 0.38995162481507284, 0.34742374596418185, 0.10775246973914299, 0.443157809568509, 0.17592303187316446, 0.22238764802643532, 0.2396101881741764, 0.3512595146939625, 0.26109687947658095, 0.23130149351552592, 0.3593410232265662, 0.35706511703706517, 0.3412852898631728, 0.32485517279727816, 0.14466831818358902, 0.1638211521243043, 0.2644390535580574, 0.3598927185969359, 0.5919511518334852, 0.2253225721697232, 0.3638205195836561, 0.3624756303491677, 0.2216584788790284, 0.40892294346721814, 0.33449231082438363, 0.35509724331639125, 0.3261143655568504, 0.3493083488231462, 0.32511065411643814, 0.3563645980501194, 0.39943280003532167, 0.3924849799173396, 0.3070198732819314, 0.2026805692224829, 0.4201373141212958, 0.19692351418444307, 0.5219466657114804, 0.4761045747460907, 1.0505740852813679, 0.32902417186515875, 0.3402361988606572, 0.312726634436247, 0.276733898943226, 0.3338388782837404, 0.349667409527182, 0.35203913909354073, 0.367067953110175, 0.3259847313206531, 0.373082272271874, 0.3551988570797348, 0.35669488537093713, 0.35108600828653214, 0.5455249718588974, 0.3566069853091171, 0.32322942008747224, 0.3310546674234298, 0.023930197374766277, 0.1890124054877286, 0.32725212529030584, 0.404502869059671, 0.3576921775364479, 0.3736597022530391, 0.48775897977817, 0.2731784425683869, 0.398308885908762, 0.3313477416676198, 0.33973438908733744, 0.4789908609090937, 0.053900575387293356, 0.23927309773681518, 0.47493018142608234, 0.2711107591449783, 0.3620488395894492, 0.3144328510319917, 0.3445772055511111, 0.3557224478039903, 0.12521701934369286, 0.5613676219016702, 0.7014652645741766, 0.356188667953728, 0.4227448131888037, 0.29958821736451813, 0.3562196044420808, 0.3175473747128084, 0.3490575375622544, 0.6982769641781156, 0.21657194142633315, 0.439325465889866, 0.35466503182306097, 0.33850611832724953, 0.6047768126331086, 0.3565421546677291, 0.43139351189412206, 0.3230250809081031, 0.18460751638371659, 0.5530560130833143, 0.2976737118075255, 0.355068617367467, 0.4058971899282609, 0.3155363053033843, 0.3485385972196776, 0.5311768844362377, 0.3550518401094449, 0.1870425612072782, 0.4291078015209151, 0.3408693123666687, 0.21046843780531424, 0.37198199912253604, 0.2941811670308148, 0.3307879031065539, 0.33462239348906353, 0.3607333363053499, 0.35115382214680935, 0.5320447112016333, 0.29414284719502154, 0.4496681724798289, 0.3565796937669432, 0.33686124769775344, 0.33488554867588854, 0.6887984442314006, 0.40327697291509074, 0.4499904182044887, 0.3665382904541854, 0.2695990253644125, 0.3954838072293588, 0.12402681501037514, 0.36033338820660177, 0.3889601663416289, 0.3541891500071983, 0.6257075630544932, 0.3270353577050613, 0.28592318713404796, 0.2074569489234612, 0.22866547213042468, 0.3104091247968906, 0.38753502660669037, 0.5933096462454633, 0.3893471972714786, 0.33879197119370935, 0.5007860957931903, 0.463538944836329, 0.2547213080764932, 0.35504980990582413, 0.2997769657367873, 0.35649456101223687, 0.3480923761262494, 0.4802690691266639, 0.3556873372904513, 0.3563291694919068, 0.21205746470332482, 0.2516783203817746, 0.4291207547436921, 0.17044679473816474, 0.3564107347928554, 0.1944137269147931, 0.24102522609119453, 0.4580767164416634, 0.5022573491720915, 0.35672451407319467, 0.483223613970371, 0.46031655092066015, 0.08896066443040292, 0.31393677556620764, 0.35829938721373905, 0.07317981443423119, 0.006783615272703399, 0.08513159989240034, 0.277402486808505, 0.35389515608903077, 0.3571991453405952, 0.3141823816303708, 0.3575597790466432, 0.20392841722405355, 0.09728513003226959, 0.35847308718916787, 0.19923362246297663, 0.34604390205138913, 0.594463600984811, 0.19246143533110346, 0.35221857788803274, 0.2629380175338649, 0.3929389527158259, 0.35679372425170425, 0.9313192158719299, 0.3572425486938581, 0.25752301435875796, 0.35529408813701613, 0.28964998948610143, 0.3371453410404055, 1.0520993726607906, 0.3564304840638212, 0.38638166044980066, 0.3625042227094856, 0.3566150530879895, 0.4049458655336213, 0.35145753829616433, 0.5378215617686403, 0.36570199377734597, 0.3106973513752063, 0.34619468783073765, 0.2893728173597755, 0.5977730334966894, 0.3758832152190132, 0.947951456963633, 0.3364949643536812, 0.3079614366249367, 0.2999918697513086, 0.5800337495652825, 0.3687290993998537, 0.3691826110163245, 0.18137779608145713, 0.47907991554489565, 0.2773639871654295, 0.35366680088473335, 0.5242178265787122, 0.3187429944908065, 0.35754220739639797, 0.3528862929822047, 0.37308049029665674, 0.5077142893943146, 0.31765638450373845, 0.25914467587240325, 0.34578508005520553, 0.15381763865931447, 0.555353562508141, 0.86048446272955, 0.3599044594700067, 0.3584775478605562, 0.32504726921928107, 0.35501891580259615, 0.3542697983230535, 0.1389327295451651, 0.43277383782104645, 0.36348580052461554, 0.35657476017606554, 0.33082419581781275, 0.48166480148632485, 0.03561980751117246, 0.3219381728864401, 0.23019092313727968, 0.358850849492305, 0.37972526584062577, 0.35053683106518746, 0.30093134896376234, 0.3578334568607891, 0.35689242845485014, 0.43556399866310447, 0.4004001615143373, 0.35711396603688167, 0.34086638769931316, 0.2717282941003304, 0.5659253507925724, 0.3518739062017185, 0.4823960063738956, 0.03652289654040124, 0.34761483142631416, 0.35581460954686084, 0.28712329047097873, 0.3597814000304732, 0.3569587251430033, 0.3858026780832459, 0.33551184286086155, 0.38118635164787773, 0.3563690643206953, 0.23476268302592113, 0.1035608148403764, 0.25119844122555424, 0.6585007857268005, 0.3850317129312083, 0.2569618648308691, 0.35745553118053003, 0.3406649139454378, 0.15246039225080352, 0.3436815684740553, 0.35670853229551336, 0.32206320231650315, 0.2762713184994491, 0.5272925609468511, 0.35548429705677964, 0.9523335438672397, 0.3113731418425473, 0.3832385052850482, 0.015920644170631833, 0.14195330796975422, 0.24348503936915677, 0.3358153939493149, 0.39105463503868876, 0.37798108045655576, 0.35653835214371166, 0.22255203436799834, 0.23476839474063238, 0.3530350741747838, 0.33709956817288045, 0.39843919051438986, 0.3573085968545306, 0.3575221296055701, 0.7219360109536509, 0.2144531353734837, 0.4245965258266142, 0.3728613437371955, 1.03970341978873, 0.4394341165300111, 0.22744926274329, 0.8810362404061135, 0.29881857146478863, 0.3524190777077251, 0.23381246188874785, 0.310564772583563, 0.3300711247664573, 0.33581843618006496, 0.36848660619746026, 0.4340764970592646, 0.36150827359417664, 0.7923558043009927, 0.2549143964672747, 0.13762979008294957, 0.3438126291454375, 0.6359164082225467, 0.15041756843704604, 0.35106787098423836, 0.4110926465661774, 0.3394346730665477, 0.06264756291317113, 0.8647939841098111, 0.3542646152555553, 0.5447299902685859, 0.6084772433238651, 0.07019560572537986, 0.4113007624354329, 0.46460061432587585, 0.21997954212865248, 0.4168935904925713, 0.35518536397106953, 0.3773787456912071, 0.44992996944694, 0.3565422301457484, 0.3536451233868199, 0.8030018525701983, 0.31900834589114596, 0.47237671834550343, 0.349916226141857, 0.32984353152575524, 0.32311337132811535, 0.35161675244835594, 0.40614607236515554, 0.7644265088744239, 0.12183530970856331, 0.3542962353494833, 0.35685417011519577, 0.038100125959025094, 0.28832104274889137, 0.4991477420889557, 0.3752235289894748, 0.3767993656700152, 0.374053384770932, 0.4865060595158097, 0.34644484017299637, 0.48124264451109183, 0.2411830930109208, 0.10903963722053657, 0.517978905699823, 0.3284764981127643, 0.38181673568564145, 0.33693761282079393, 0.06481361750020793, 0.3964025807677986, 0.40614010742824697, 0.001829248954599128, 0.356629618589395, 0.3565766885397942, 0.34600912401415074, 0.6131878126375311, 0.5704821233256544, 0.3580544477846179, 0.35885753884702637, 0.4104393989900273, 0.22532695000383451, 0.3688862976785648, 0.36113509276746386, 0.1652852768994665, 0.1776654230554826, 0.36267890176471357, 0.1582291794634483, 0.46504862616269366, 0.1575918677522114, 0.3290918947422624, 0.23652065408555376, 0.5407461009956336, 0.2208973687773007, 0.39060218639494637, 0.2838063240597527, 0.37050251083879226, 0.3063211349312994, 0.39920847569459345, 0.20765772284126993, 0.22869649534968906, 0.3189781967731881, 0.07252717392430637, 0.14243836541405244, 0.7944435862978728, 0.369625550059928, 0.11705445648860367, 0.12399631466189172, 0.5752023667138948, 0.47629561984416086, 0.3133108582756197, 0.3816787199472815, 0.3906768257412452, 0.3487916390633466, 0.34148482696721877, 0.12692232360520464, 0.29091430235467797, 0.37104214851410344, 0.4523072453894071, 0.35553491517951064, 0.34238119850914617, 0.35813946391545104, 0.3540152333484969, 0.5660600967114479, 0.9557619203251799, 0.5113177436109645, 0.27014327487677436, 0.5038197154373204, 0.428614972944801, 0.32508731669134466, 0.13717536295661373, 0.30204752774990024, 0.30278565415713854, 0.3111947467288656, 0.40573531791396267, 0.2827544688752557, 0.31828035112148584, 0.3494591991276616, 0.2657957101807776, 0.34142029361509957, 0.6791880611332249, 0.46623096702778544, 0.1733764498816916, 0.6769719604507012, 0.35481856783023275, 0.09464343367002337, 0.30591745934397097, 0.3493071264871184, 0.3430007359371567, 0.10167618192669986, 0.5103690762165081, 0.3537430068123376, 0.2971575063804619, 0.1437602266610221, 0.5157378201480406, 0.3717961186281632, 0.8634210693347444, 0.19772974352963074, 0.3132574495639948, 0.36350833889372064, 0.31616569513123055, 0.07828212464872931, 0.5985544502910326, 0.33929507851020313, 0.21226480062123287, 0.3576167356660576, 0.34502357340767964, 0.6153724230676803, 0.16579410116024845, 0.3136593970933683, 0.38392128118764934, 0.14786458477879855, 0.6197387115767186, 0.3634125641634883, 0.3456302185516471, 0.36183941153701155, 0.2696079647399456, 0.1043671188409827, 0.35675993261683764, 0.48266724785288045, 0.3632832258070241, 0.3499891481560757, 0.27426714115568057, 0.7550401063353291, 0.352286626248987, 0.3632578062175453, 0.28129724273941303, 0.3006175372200034, 0.5123189316853901, 0.6920904466988805, 0.17477853428028617, 0.238961020772576, 0.35702034051935716, 0.3689401860115869, 0.3574053601331341, 0.349217289865991, 0.5143933925681186, 0.2962381996020025, 0.34798758726637974, 0.3470599356737306, 0.38491531355016667, 0.3613898800578313, 0.5020195759713248, 0.280496444585631, 0.37060521928247486, 0.529429786064408, 0.43085900687039613, 0.2750570621314377, 0.3074574204859486, 0.3878901488872728, 0.48072205634610077, 0.32308569536396176, 0.43035257203750515, 0.3426722363931207, 0.2901941723881409, 0.3735779150726575, 0.4165862253454244, 0.35580362962368983, 1.1817863695003676, 0.3516499212124832, 0.3622171046431034, 0.376245650133472, 0.3508989172518233, 0.11735261311517467, 0.24034894550612482, 0.5815047906441493, 0.06287952568955074, 0.35661549228060646, 0.3189999951189203, 0.3956928286232429, 0.5672092469042085, 0.3513966311947546, 0.3223379728807339, 0.062330478182215966, 0.3816798668448299, 0.18806199555072176, 0.24390783905831376, 0.3567525237469759, 0.34440660673198925, 0.5105458132779133, 0.3902868229902737, 0.3530535399094819, 0.3446001192143981, 0.3131392770700908, 0.34507319982151957, 0.5687038786837583, 0.3644046004834839, 0.3398626335693003, 0.3498503607541764, 0.21852206067564758, 0.36747031240832045, 0.3513531812294411, 0.3476114953914752, 0.3474696993925945, 0.23013091452401951, 0.35717747645275055, 0.23412394832467553, 0.3567676181171213, 0.3000799124913778, 0.16997509699208302, 0.5055093475767761, 0.842262598079298, 0.7128416589324118, 0.356521688094606, 0.040617153765089446, 0.3343710721127976, 0.3531078860260266, 0.2087475978520601, 0.5562069913572937, 0.2680647445774523, 0.32852161684559417, 0.264262054308496, 0.31740692179743535, 0.37893153769580645, 0.26205189497354914, 0.3289604521677611, 0.34362351762301, 0.3655497807326727, 0.37531585528670736, 0.35304393972243076, 0.09101838409429974, 0.3794264053958634, 0.3544981804516969, 0.2098344093527304, 0.3636732824362517, 1.0641734772086144, 0.3643754593114897, 0.2805023496614863, 0.3560367974340268, 0.3035428736048431, 0.2475183042195022, 0.2769348767456234, 0.3997368016575998, 0.3599270638543234, 0.405111548905518, 0.39646485137917586, 0.7351587702633984, 0.04496511321230656, 0.40921699230029623, 0.3737143491043187, 0.3432967568032348, 0.06413815017927693, 0.49592597365955643, 0.3389556174062267, 0.35460861595908805, 0.1735561462122352, 0.3231397198124105, 0.06779721095626656, 0.37529831476903325, 0.1904382688425118, 0.35675197935740305, 0.35412673033335207, 0.07296491796366773, 0.23525040779548698, 0.145168399334349, 0.35656249696441417, 0.25630901571055353, 0.5255991755277505, 0.3523157706720427, 0.3565314688139373, 0.23608928330976864, 0.36729902838165973, 0.36097196733558934, 0.3543666902063001, 0.3319438264897678, 0.3417497355446035, 0.33504864006849205, 0.314826992742721, 0.353363800201971, 0.3475750624511165, 0.30707097364642366, 0.33308395949302405, 0.2836365117232392, 0.39766095465151086, 0.3514089800552649, 0.3682620569742114, 0.3587207256051582]\n"
     ]
    },
    {
     "data": {
      "text/plain": [
       "800"
      ]
     },
     "execution_count": 19,
     "metadata": {},
     "output_type": "execute_result"
    }
   ],
   "source": [
    "e = []\n",
    "for i in range(800):\n",
    "  input = df.loc[i ,'Feature0': 'Feature39']\n",
    "  m = input.values * w\n",
    "  Z = np.sum(m)\n",
    "  Y_hat_train = sigmoid(Z)\n",
    "  e.append(error(Y_train[i], Y_hat_train))\n",
    "  \n",
    "print(e)\n",
    "len(e)\n"
   ]
  },
  {
   "cell_type": "code",
   "execution_count": 21,
   "metadata": {
    "colab": {
     "base_uri": "https://localhost:8080/",
     "height": 35
    },
    "colab_type": "code",
    "id": "QsUOwkZWTfg3",
    "outputId": "12124764-65b1-4a7b-afab-7bafdf41cf8a"
   },
   "outputs": [
    {
     "data": {
      "text/plain": [
       "0.35481023950416174"
      ]
     },
     "execution_count": 21,
     "metadata": {},
     "output_type": "execute_result"
    }
   ],
   "source": [
    "#mean for epoch 0 on training set\n",
    "err_mean = sum(e) / 800\n",
    "err_mean"
   ]
  },
  {
   "cell_type": "code",
   "execution_count": 22,
   "metadata": {
    "colab": {
     "base_uri": "https://localhost:8080/",
     "height": 35
    },
    "colab_type": "code",
    "id": "7NmsL2fAXB0G",
    "outputId": "f2f9b483-11a6-4277-f38d-aa83b9327ddf"
   },
   "outputs": [
    {
     "data": {
      "text/plain": [
       "0.35481023950416213"
      ]
     },
     "execution_count": 22,
     "metadata": {},
     "output_type": "execute_result"
    }
   ],
   "source": [
    "e_mean = np.array(e)\n",
    "np.mean(e_mean)"
   ]
  },
  {
   "cell_type": "markdown",
   "metadata": {
    "colab_type": "text",
    "id": "xfdSN3GSJvs9"
   },
   "source": [
    "#For training data \n",
    "we have 800 examples rows , label goes from 0-799\n",
    "#For validation data\n",
    "we have 200 examples rows , label goes from 0-199"
   ]
  },
  {
   "cell_type": "code",
   "execution_count": 23,
   "metadata": {
    "colab": {},
    "colab_type": "code",
    "id": "tD2qijIxKwwO"
   },
   "outputs": [],
   "source": [
    "#validation data\n",
    "df_val = pd.read_csv('validation_data.csv')"
   ]
  },
  {
   "cell_type": "code",
   "execution_count": 24,
   "metadata": {
    "colab": {
     "base_uri": "https://localhost:8080/",
     "height": 249
    },
    "colab_type": "code",
    "id": "GQsH4tCHMLmu",
    "outputId": "8b38421a-2d15-4592-cb8d-de5931a37904"
   },
   "outputs": [
    {
     "data": {
      "text/html": [
       "<div>\n",
       "<style scoped>\n",
       "    .dataframe tbody tr th:only-of-type {\n",
       "        vertical-align: middle;\n",
       "    }\n",
       "\n",
       "    .dataframe tbody tr th {\n",
       "        vertical-align: top;\n",
       "    }\n",
       "\n",
       "    .dataframe thead th {\n",
       "        text-align: right;\n",
       "    }\n",
       "</style>\n",
       "<table border=\"1\" class=\"dataframe\">\n",
       "  <thead>\n",
       "    <tr style=\"text-align: right;\">\n",
       "      <th></th>\n",
       "      <th>Feature0</th>\n",
       "      <th>Feature1</th>\n",
       "      <th>Feature2</th>\n",
       "      <th>Feature3</th>\n",
       "      <th>Feature4</th>\n",
       "      <th>Feature5</th>\n",
       "      <th>Feature6</th>\n",
       "      <th>Feature7</th>\n",
       "      <th>Feature8</th>\n",
       "      <th>Feature9</th>\n",
       "      <th>...</th>\n",
       "      <th>Feature31</th>\n",
       "      <th>Feature32</th>\n",
       "      <th>Feature33</th>\n",
       "      <th>Feature34</th>\n",
       "      <th>Feature35</th>\n",
       "      <th>Feature36</th>\n",
       "      <th>Feature37</th>\n",
       "      <th>Feature38</th>\n",
       "      <th>Feature39</th>\n",
       "      <th>Y</th>\n",
       "    </tr>\n",
       "  </thead>\n",
       "  <tbody>\n",
       "    <tr>\n",
       "      <th>195</th>\n",
       "      <td>-0.022998</td>\n",
       "      <td>-0.638969</td>\n",
       "      <td>0.010719</td>\n",
       "      <td>0.013714</td>\n",
       "      <td>-1.610132</td>\n",
       "      <td>1.615649</td>\n",
       "      <td>0.912201</td>\n",
       "      <td>0.014834</td>\n",
       "      <td>-1.427196</td>\n",
       "      <td>1.968347</td>\n",
       "      <td>...</td>\n",
       "      <td>-0.443611</td>\n",
       "      <td>0.904781</td>\n",
       "      <td>0.814368</td>\n",
       "      <td>-0.658616</td>\n",
       "      <td>-1.053398</td>\n",
       "      <td>0.426052</td>\n",
       "      <td>0.735793</td>\n",
       "      <td>-1.972924</td>\n",
       "      <td>0.611715</td>\n",
       "      <td>1.526788</td>\n",
       "    </tr>\n",
       "    <tr>\n",
       "      <th>196</th>\n",
       "      <td>-0.955760</td>\n",
       "      <td>1.050655</td>\n",
       "      <td>0.570162</td>\n",
       "      <td>0.065443</td>\n",
       "      <td>-0.733486</td>\n",
       "      <td>0.254292</td>\n",
       "      <td>0.786285</td>\n",
       "      <td>3.360382</td>\n",
       "      <td>-1.128855</td>\n",
       "      <td>-1.873203</td>\n",
       "      <td>...</td>\n",
       "      <td>-1.410702</td>\n",
       "      <td>0.249992</td>\n",
       "      <td>-1.360762</td>\n",
       "      <td>-3.733948</td>\n",
       "      <td>-0.322714</td>\n",
       "      <td>-1.591897</td>\n",
       "      <td>-0.581989</td>\n",
       "      <td>-0.567986</td>\n",
       "      <td>-1.108985</td>\n",
       "      <td>0.853979</td>\n",
       "    </tr>\n",
       "    <tr>\n",
       "      <th>197</th>\n",
       "      <td>-0.102779</td>\n",
       "      <td>0.631797</td>\n",
       "      <td>1.463879</td>\n",
       "      <td>-0.103438</td>\n",
       "      <td>1.077846</td>\n",
       "      <td>-0.892747</td>\n",
       "      <td>-0.398916</td>\n",
       "      <td>1.099774</td>\n",
       "      <td>-1.453446</td>\n",
       "      <td>1.954699</td>\n",
       "      <td>...</td>\n",
       "      <td>1.313093</td>\n",
       "      <td>0.618683</td>\n",
       "      <td>0.131782</td>\n",
       "      <td>0.268913</td>\n",
       "      <td>-1.081765</td>\n",
       "      <td>-0.726728</td>\n",
       "      <td>-1.204475</td>\n",
       "      <td>-1.244429</td>\n",
       "      <td>-2.061562</td>\n",
       "      <td>1.773188</td>\n",
       "    </tr>\n",
       "    <tr>\n",
       "      <th>198</th>\n",
       "      <td>1.649827</td>\n",
       "      <td>0.818815</td>\n",
       "      <td>-0.216111</td>\n",
       "      <td>1.798053</td>\n",
       "      <td>-0.181317</td>\n",
       "      <td>-1.049556</td>\n",
       "      <td>-1.085483</td>\n",
       "      <td>0.849467</td>\n",
       "      <td>1.094480</td>\n",
       "      <td>1.093874</td>\n",
       "      <td>...</td>\n",
       "      <td>0.079313</td>\n",
       "      <td>-0.215879</td>\n",
       "      <td>0.300951</td>\n",
       "      <td>-1.134881</td>\n",
       "      <td>0.160517</td>\n",
       "      <td>0.102637</td>\n",
       "      <td>-0.852803</td>\n",
       "      <td>0.027255</td>\n",
       "      <td>1.701834</td>\n",
       "      <td>1.842946</td>\n",
       "    </tr>\n",
       "    <tr>\n",
       "      <th>199</th>\n",
       "      <td>1.744764</td>\n",
       "      <td>0.435823</td>\n",
       "      <td>-0.734112</td>\n",
       "      <td>0.648575</td>\n",
       "      <td>-0.308196</td>\n",
       "      <td>0.656949</td>\n",
       "      <td>0.481315</td>\n",
       "      <td>-0.455628</td>\n",
       "      <td>-1.033956</td>\n",
       "      <td>-2.085849</td>\n",
       "      <td>...</td>\n",
       "      <td>-0.727135</td>\n",
       "      <td>1.077863</td>\n",
       "      <td>-1.944180</td>\n",
       "      <td>-0.013597</td>\n",
       "      <td>1.841467</td>\n",
       "      <td>0.822567</td>\n",
       "      <td>-0.983269</td>\n",
       "      <td>0.482498</td>\n",
       "      <td>0.985959</td>\n",
       "      <td>1.422733</td>\n",
       "    </tr>\n",
       "  </tbody>\n",
       "</table>\n",
       "<p>5 rows × 41 columns</p>\n",
       "</div>"
      ],
      "text/plain": [
       "     Feature0  Feature1  Feature2  Feature3  Feature4  Feature5  Feature6  \\\n",
       "195 -0.022998 -0.638969  0.010719  0.013714 -1.610132  1.615649  0.912201   \n",
       "196 -0.955760  1.050655  0.570162  0.065443 -0.733486  0.254292  0.786285   \n",
       "197 -0.102779  0.631797  1.463879 -0.103438  1.077846 -0.892747 -0.398916   \n",
       "198  1.649827  0.818815 -0.216111  1.798053 -0.181317 -1.049556 -1.085483   \n",
       "199  1.744764  0.435823 -0.734112  0.648575 -0.308196  0.656949  0.481315   \n",
       "\n",
       "     Feature7  Feature8  Feature9    ...     Feature31  Feature32  Feature33  \\\n",
       "195  0.014834 -1.427196  1.968347    ...     -0.443611   0.904781   0.814368   \n",
       "196  3.360382 -1.128855 -1.873203    ...     -1.410702   0.249992  -1.360762   \n",
       "197  1.099774 -1.453446  1.954699    ...      1.313093   0.618683   0.131782   \n",
       "198  0.849467  1.094480  1.093874    ...      0.079313  -0.215879   0.300951   \n",
       "199 -0.455628 -1.033956 -2.085849    ...     -0.727135   1.077863  -1.944180   \n",
       "\n",
       "     Feature34  Feature35  Feature36  Feature37  Feature38  Feature39  \\\n",
       "195  -0.658616  -1.053398   0.426052   0.735793  -1.972924   0.611715   \n",
       "196  -3.733948  -0.322714  -1.591897  -0.581989  -0.567986  -1.108985   \n",
       "197   0.268913  -1.081765  -0.726728  -1.204475  -1.244429  -2.061562   \n",
       "198  -1.134881   0.160517   0.102637  -0.852803   0.027255   1.701834   \n",
       "199  -0.013597   1.841467   0.822567  -0.983269   0.482498   0.985959   \n",
       "\n",
       "            Y  \n",
       "195  1.526788  \n",
       "196  0.853979  \n",
       "197  1.773188  \n",
       "198  1.842946  \n",
       "199  1.422733  \n",
       "\n",
       "[5 rows x 41 columns]"
      ]
     },
     "execution_count": 24,
     "metadata": {},
     "output_type": "execute_result"
    }
   ],
   "source": [
    "df_val.tail()"
   ]
  },
  {
   "cell_type": "code",
   "execution_count": null,
   "metadata": {
    "colab": {},
    "colab_type": "code",
    "id": "joIgEDTmMQtX"
   },
   "outputs": [],
   "source": []
  },
  {
   "cell_type": "markdown",
   "metadata": {
    "colab_type": "text",
    "id": "w1hjSGWtOMFR"
   },
   "source": [
    "#Validation error"
   ]
  },
  {
   "cell_type": "code",
   "execution_count": 25,
   "metadata": {
    "colab": {
     "base_uri": "https://localhost:8080/",
     "height": 124
    },
    "colab_type": "code",
    "id": "9kdCFS9HOsCx",
    "outputId": "b8098dd1-8c2e-47b2-f23b-6e268c83f75f"
   },
   "outputs": [
    {
     "data": {
      "text/plain": [
       "0    1.793858\n",
       "1    0.860383\n",
       "2    0.905793\n",
       "3    0.847834\n",
       "4    0.855014\n",
       "Name: Y, dtype: float64"
      ]
     },
     "execution_count": 25,
     "metadata": {},
     "output_type": "execute_result"
    }
   ],
   "source": [
    "Y_val = df_val['Y']\n",
    "Y_val.head()"
   ]
  },
  {
   "cell_type": "code",
   "execution_count": 26,
   "metadata": {
    "colab": {
     "base_uri": "https://localhost:8080/",
     "height": 72
    },
    "colab_type": "code",
    "id": "CUZh1n0KOPlu",
    "outputId": "7ea79800-11d8-49e6-e582-df566e9719fd"
   },
   "outputs": [
    {
     "name": "stdout",
     "output_type": "stream",
     "text": [
      "[0.6484882970224631, 0.17080742742160762, 0.3060246145815999, 0.2428308818150789, 0.35183351270350627, 0.35997817656797626, 0.6255045440237719, 0.35671522440025893, 0.37523864375940136, 0.41185163059863505, 0.8355515598663256, 0.5096743608027358, 0.3925740971865942, 0.17312905728494135, 1.2340701835361876, 0.3588570871671187, 0.09308184928569761, 0.28646598881731605, 0.5628283146322521, 0.46927346221625627, 0.21683720712365526, 0.36123383365377926, 0.369472526111455, 0.7998911113930888, 0.3542475283934363, 0.7817032523022208, 0.5102500189200095, 0.332915889942291, 0.3555650314400135, 0.36412375985198037, 0.3422530171704729, 0.35635938983316867, 0.5858878360426939, 0.2549744304215406, 0.2520009701083573, 0.35822109497152416, 0.3301570625192745, 0.15510565857831154, 0.35565713990099923, 0.5551521562716877, 0.5625127847889844, 0.19034434369968442, 0.14389404796153057, 0.3783471621759934, 0.42115185647757886, 0.30354601263968767, 0.18563439061547712, 0.3306455279605115, 0.3569263668711781, 0.19721542889802304, 0.320216968356257, 0.29870597681973127, 0.10655709687401946, 0.35756354569008236, 0.35451355075900587, 0.11569599673959793, 0.11885206872392853, 0.36652144382471663, 0.07105925072861541, 0.35858954184808356, 0.35398432139571173, 0.19543443390096427, 0.01174437550385124, 0.35777082916628844, 0.19029871995042927, 0.028097787029212878, 0.39875727368569724, 0.04386951780467761, 0.35666184779181354, 0.014682004570201196, 0.3530783888210644, 0.37186814901474297, 0.3568044903905664, 0.27874838516650996, 0.4083660310228566, 0.26774613857572127, 0.8112088851954432, 0.4747905730072377, 0.3262249819075586, 0.3161980158524994, 0.2397444868882537, 1.449906020812543, 0.028353107873912885, 0.3580583216954812, 0.2660809974753921, 0.1069432951842243, 0.80908968591376, 0.37793420594438426, 0.13965633042777578, 0.5417652453044636, 0.47976029786344376, 0.4500735947268661, 0.3608985402326518, 0.3520716998321267, 1.1712165365863578, 0.7930966274922263, 0.6951964917116555, 0.525795151658547, 0.3993878496655068, 0.3538600564304848, 0.4587845560899537, 0.69758864746424, 0.25572613517176057, 0.3567291665211154, 0.3511410223300177, 0.3627079898228697, 0.35396121531683433, 0.15607823333956689, 0.3178756304863103, 0.3242992065749789, 0.3516633978467448, 0.4833831004695053, 0.35775346633635147, 0.35642537637324373, 0.31020884851847647, 0.43369393688118374, 0.7373762287925425, 0.34584258841182064, 0.4767310767920972, 0.3591125117729781, 0.31098486706416, 0.49259557554230826, 0.11668364135048581, 0.42171937138477505, 0.36605060353803265, 0.8372228250103734, 0.28041982700247214, 0.35883936435920877, 0.3570208000141788, 0.8660034969205009, 0.43631387650537234, 0.35726107596011747, 0.11297665167108323, 0.35447120078619315, 0.3494246343091944, 0.38104235638727435, 0.7324283527877564, 0.13753359036562685, 0.43412956427180466, 0.35380001692643004, 0.23769029693336544, 0.22445674592615564, 0.35697253428293696, 0.3149757593252888, 0.38553560474103205, 0.3533308707333433, 0.31369758833230804, 0.335246236455945, 0.356773758293275, 0.25875548981097896, 0.3189302802572668, 0.3555640546697096, 0.6569050647921655, 0.7688250756606122, 0.014265132738964289, 0.3949731575966263, 0.3496325374481378, 0.529471402630577, 0.3534070273249943, 0.42969552015807994, 0.16986342889678033, 0.05811937019668766, 0.3721025278472036, 0.33544606067175353, 1.1824786337247577, 0.3644153097656406, 0.36109378369859046, 0.19858062143372207, 0.41101352780188327, 0.38658479385884764, 0.3600351412218744, 0.40533225969153, 0.266910154408987, 0.32804968735477924, 0.44165300170343147, 0.3227778126805726, 0.3568019579844073, 0.5045514230201181, 0.36190144970522065, 0.4557603100613922, 0.3495901187419651, 0.3554593288326624, 0.4948669002300262, 0.31160499753469467, 0.14908610196666514, 0.3573740741308522, 0.36024453970870507, 0.26148240062970785, 0.21228638568361533, 0.35385185385097306, 0.35252111163237254, 0.3545757307323258, 0.24487704904822563, 0.3551519237446572, 0.43978089321678976, 0.39976150062761556, 0.35839546986461396, 0.9795419792128482, 0.3590342515225793, 0.33535823441786494]\n"
     ]
    },
    {
     "data": {
      "text/plain": [
       "200"
      ]
     },
     "execution_count": 26,
     "metadata": {},
     "output_type": "execute_result"
    }
   ],
   "source": [
    "e_val = []\n",
    "for i in range(200):\n",
    "  input_val = df_val.loc[i ,'Feature0': 'Feature39']\n",
    "  m_val = input_val.values * w\n",
    "  Z_val = np.sum(m_val)\n",
    "  Y_hat_val = sigmoid(Z_val)\n",
    "  e_val.append(error(Y_val[i], Y_hat_val))\n",
    "  \n",
    "print(e_val)\n",
    "len(e_val)\n"
   ]
  },
  {
   "cell_type": "code",
   "execution_count": 27,
   "metadata": {
    "colab": {
     "base_uri": "https://localhost:8080/",
     "height": 35
    },
    "colab_type": "code",
    "id": "C-Qg9QAuPDxF",
    "outputId": "89af42dc-0b6e-47c7-d59a-d053d29df227"
   },
   "outputs": [
    {
     "data": {
      "text/plain": [
       "0.38175964575602556"
      ]
     },
     "execution_count": 27,
     "metadata": {},
     "output_type": "execute_result"
    }
   ],
   "source": [
    "#mean validation error for epoch 0\n",
    "\n",
    "e_mean = np.array(e_val)\n",
    "np.mean(e_mean)"
   ]
  },
  {
   "cell_type": "code",
   "execution_count": 29,
   "metadata": {
    "colab": {},
    "colab_type": "code",
    "id": "1nIMhI4SPR5M"
   },
   "outputs": [
    {
     "name": "stdout",
     "output_type": "stream",
     "text": [
      "F:\\DeepLearning_NPTEL\\WEEK7\\weights\\weights_after_epoch_0.npy\n",
      "F:\\DeepLearning_NPTEL\\WEEK7\\weights\\weights_after_epoch_1.npy\n",
      "F:\\DeepLearning_NPTEL\\WEEK7\\weights\\weights_after_epoch_2.npy\n",
      "F:\\DeepLearning_NPTEL\\WEEK7\\weights\\weights_after_epoch_3.npy\n",
      "F:\\DeepLearning_NPTEL\\WEEK7\\weights\\weights_after_epoch_4.npy\n",
      "F:\\DeepLearning_NPTEL\\WEEK7\\weights\\weights_after_epoch_5.npy\n",
      "F:\\DeepLearning_NPTEL\\WEEK7\\weights\\weights_after_epoch_6.npy\n",
      "F:\\DeepLearning_NPTEL\\WEEK7\\weights\\weights_after_epoch_7.npy\n",
      "F:\\DeepLearning_NPTEL\\WEEK7\\weights\\weights_after_epoch_8.npy\n",
      "F:\\DeepLearning_NPTEL\\WEEK7\\weights\\weights_after_epoch_9.npy\n"
     ]
    }
   ],
   "source": [
    "import pandas\n",
    "#df = pandas.DataFrame(np.load())\n",
    "for i in range(10):\n",
    "  s = 'F:\\\\DeepLearning_NPTEL\\\\WEEK7\\\\weights\\\\weights_after_epoch_' + str(i) + '.npy'\n",
    "  print(s)"
   ]
  },
  {
   "cell_type": "code",
   "execution_count": 40,
   "metadata": {},
   "outputs": [],
   "source": [
    "def val_error():\n",
    "    for i in range(10):\n",
    "        s = 'F:\\\\DeepLearning_NPTEL\\\\WEEK7\\\\weights\\\\weights_after_epoch_' + str(i) + '.npy'\n",
    "        weight = np.load(s)\n",
    "        e_val = []\n",
    "        for j in range(200):\n",
    "            input_val = df_val.loc[j ,'Feature0': 'Feature39']\n",
    "            m_val = input_val.values * weight\n",
    "            Z_val = np.sum(m_val)\n",
    "            Y_hat_val = sigmoid(Z_val)\n",
    "            e_val.append(error(Y_val[j], Y_hat_val))\n",
    "        e_mean = np.array(e_val)\n",
    "        print( 'Epoch ',i,' MSE ',np.mean(e_mean))\n",
    "        "
   ]
  },
  {
   "cell_type": "code",
   "execution_count": 41,
   "metadata": {},
   "outputs": [
    {
     "name": "stdout",
     "output_type": "stream",
     "text": [
      "Epoch  0  MSE  0.38175964575602556\n",
      "Epoch  1  MSE  0.3725722750448153\n",
      "Epoch  2  MSE  0.36974304490131915\n",
      "Epoch  3  MSE  0.3701919712971724\n",
      "Epoch  4  MSE  0.3701751700040101\n",
      "Epoch  5  MSE  0.3709080260459867\n",
      "Epoch  6  MSE  0.37162510565788587\n",
      "Epoch  7  MSE  0.3725154349148477\n",
      "Epoch  8  MSE  0.3734641822387809\n",
      "Epoch  9  MSE  0.37444469929557317\n"
     ]
    }
   ],
   "source": [
    "val_error()"
   ]
  },
  {
   "cell_type": "code",
   "execution_count": null,
   "metadata": {},
   "outputs": [],
   "source": []
  }
 ],
 "metadata": {
  "colab": {
   "collapsed_sections": [],
   "name": "Assigment_7.ipynb",
   "provenance": [],
   "toc_visible": true,
   "version": "0.3.2"
  },
  "kernelspec": {
   "display_name": "Python 3",
   "language": "python",
   "name": "python3"
  },
  "language_info": {
   "codemirror_mode": {
    "name": "ipython",
    "version": 3
   },
   "file_extension": ".py",
   "mimetype": "text/x-python",
   "name": "python",
   "nbconvert_exporter": "python",
   "pygments_lexer": "ipython3",
   "version": "3.7.0"
  }
 },
 "nbformat": 4,
 "nbformat_minor": 1
}
