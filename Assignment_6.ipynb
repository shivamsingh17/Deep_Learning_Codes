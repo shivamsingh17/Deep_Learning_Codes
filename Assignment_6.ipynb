{
  "nbformat": 4,
  "nbformat_minor": 0,
  "metadata": {
    "colab": {
      "name": "Assignment_6.ipynb",
      "version": "0.3.2",
      "provenance": [],
      "collapsed_sections": [],
      "include_colab_link": true
    },
    "kernelspec": {
      "name": "python3",
      "display_name": "Python 3"
    }
  },
  "cells": [
    {
      "cell_type": "markdown",
      "metadata": {
        "id": "view-in-github",
        "colab_type": "text"
      },
      "source": [
        "[View in Colaboratory](https://colab.research.google.com/github/shivamsingh17/Deep_Learning_Codes/blob/master/Assignment_6.ipynb)"
      ]
    },
    {
      "metadata": {
        "id": "ZJobrqlDgk9e",
        "colab_type": "code",
        "colab": {}
      },
      "cell_type": "code",
      "source": [
        "import numpy as np\n",
        "import pandas as pd"
      ],
      "execution_count": 0,
      "outputs": []
    },
    {
      "metadata": {
        "id": "x7BwmKtpijBE",
        "colab_type": "code",
        "colab": {}
      },
      "cell_type": "code",
      "source": [
        "# define the signmoid function\n",
        "def sigmoid(x):\n",
        "  return 1.0 / ( 1.0 + np.exp(-x) )"
      ],
      "execution_count": 0,
      "outputs": []
    },
    {
      "metadata": {
        "id": "A4FcHgnKi7yt",
        "colab_type": "code",
        "colab": {}
      },
      "cell_type": "code",
      "source": [
        "#load weights for autoencoders 1\n",
        "parameters1 = np.load('autoencoder1.npy')\n",
        "W_e_1 = parameters1[0]\n",
        "b_1 = parameters1[1]\n",
        "W_d_1 = parameters1[2]\n",
        "c_1 = parameters1[3]"
      ],
      "execution_count": 0,
      "outputs": []
    },
    {
      "metadata": {
        "id": "mdrPGOj0mKra",
        "colab_type": "code",
        "colab": {}
      },
      "cell_type": "code",
      "source": [
        "#print(W_e_1)"
      ],
      "execution_count": 0,
      "outputs": []
    },
    {
      "metadata": {
        "id": "eeA9Jbj0mOGT",
        "colab_type": "code",
        "colab": {}
      },
      "cell_type": "code",
      "source": [
        "#load weights for autoencoders 2\n",
        "parameters2 = np.load('autoencoder2.npy')\n",
        "W_e_2 = parameters2[0]\n",
        "b_2 = parameters2[1]\n",
        "W_d_2 = parameters2[2]\n",
        "c_2 = parameters2[3]"
      ],
      "execution_count": 0,
      "outputs": []
    },
    {
      "metadata": {
        "id": "PAyyxXYFmiva",
        "colab_type": "code",
        "colab": {}
      },
      "cell_type": "code",
      "source": [
        "#load data\n",
        "X = pd.read_csv(\"data.csv\").values\n",
        "\n",
        "loss_1 = 0\n",
        "loss_2 = 0"
      ],
      "execution_count": 0,
      "outputs": []
    },
    {
      "metadata": {
        "id": "3S4OXPhImxaH",
        "colab_type": "code",
        "colab": {}
      },
      "cell_type": "code",
      "source": [
        "#iterate over each datapoint\n",
        "for x_i in X:\n",
        "  \n",
        "  #compute hidden representation for autoencoder1\n",
        "  h_1 = sigmoid(np.dot(W_e_1, x_i) + b_1 )\n",
        "  \n",
        "  #compute hidden representation for autoencoder2\n",
        "  h_2 = sigmoid(np.dot(W_e_2, x_i) + b_2 )\n",
        "  \n",
        "  #compute reconstructed output for autoencoder1\n",
        "  x_hat_1 = sigmoid(np.dot(W_d_1, h_1) + c_1 )\n",
        "  \n",
        "  #compute reconstructed output for autoencoder2\n",
        "  x_hat_2 = sigmoid(np.dot(W_d_2, h_2) + c_2 )\n",
        "  \n",
        "  # compute sqaure error loss between input and reconstructed \n",
        "  #output of autoencoder1\n",
        "  error_1 = np.mean(np.square(x_i - x_hat_1))\n",
        "  \n",
        "  #add it to total loss\n",
        "  loss_1 = loss_1 + error_1\n",
        "  \n",
        "  # compute sqaure error loss between input and reconstructed \n",
        "  #output of autoencoder2\n",
        "  error_2 = np.mean(np.square(x_i - x_hat_2))\n",
        "  \n",
        "  #add it to total loss\n",
        "  loss_2 = loss_2 + error_2"
      ],
      "execution_count": 0,
      "outputs": []
    },
    {
      "metadata": {
        "id": "JdX3Ph2fpRSz",
        "colab_type": "code",
        "colab": {
          "base_uri": "https://localhost:8080/",
          "height": 35
        },
        "outputId": "e5cd0403-60ba-487a-ae69-ca07a83efdc1"
      },
      "cell_type": "code",
      "source": [
        "print(\"loss1\", loss_1)"
      ],
      "execution_count": 13,
      "outputs": [
        {
          "output_type": "stream",
          "text": [
            "loss1 794.8691563908676\n"
          ],
          "name": "stdout"
        }
      ]
    },
    {
      "metadata": {
        "id": "cLvcIEQKqb6F",
        "colab_type": "code",
        "colab": {
          "base_uri": "https://localhost:8080/",
          "height": 35
        },
        "outputId": "157b6cbd-6f4a-44ef-bb7b-8a35517b0eb4"
      },
      "cell_type": "code",
      "source": [
        "print(\"loss2\", loss_2)"
      ],
      "execution_count": 15,
      "outputs": [
        {
          "output_type": "stream",
          "text": [
            "loss2 1028.6703253622923\n"
          ],
          "name": "stdout"
        }
      ]
    },
    {
      "metadata": {
        "id": "tU124q4cqe7h",
        "colab_type": "code",
        "colab": {
          "base_uri": "https://localhost:8080/",
          "height": 35
        },
        "outputId": "aaaf5823-0c78-4b32-8047-a4ab86d8eac1"
      },
      "cell_type": "code",
      "source": [
        "#Compare the two losses\n",
        "if loss_1 < loss_2:\n",
        "  print(\"The loss of autoencoder1 < The loss of autoencoder2\")\n",
        "elif loss_1 > loss_2:\n",
        "  print(\"The loss of autoencoder1 > The loss of autoencoder2\")\n",
        "else:\n",
        "  print(\"The loss of autoencoder1 = The loss of autoencoder2\")"
      ],
      "execution_count": 16,
      "outputs": [
        {
          "output_type": "stream",
          "text": [
            "The loss of autoencoder1 < The loss of autoencoder2\n"
          ],
          "name": "stdout"
        }
      ]
    },
    {
      "metadata": {
        "id": "cx7vBBYvrEv5",
        "colab_type": "code",
        "colab": {}
      },
      "cell_type": "code",
      "source": [
        ""
      ],
      "execution_count": 0,
      "outputs": []
    }
  ]
}