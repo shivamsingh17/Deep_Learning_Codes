{
 "cells": [
  {
   "cell_type": "code",
   "execution_count": 1,
   "metadata": {},
   "outputs": [],
   "source": [
    "import pandas as pd "
   ]
  },
  {
   "cell_type": "code",
   "execution_count": 2,
   "metadata": {},
   "outputs": [],
   "source": [
    "import numpy as np"
   ]
  },
  {
   "cell_type": "code",
   "execution_count": 3,
   "metadata": {},
   "outputs": [],
   "source": [
    "def f(w, b, x):\n",
    "    return 1.0 / (1.0 + np.exp(-(w*x + b)))"
   ]
  },
  {
   "cell_type": "code",
   "execution_count": 8,
   "metadata": {},
   "outputs": [],
   "source": [
    "def error(w, b): #Calculate the error\n",
    "    err = 0.0\n",
    "    for x,y in zip(X,Y) :\n",
    "        fx = f(w, b, x)\n",
    "        err += 0.5 * (fx - y) ** 2\n",
    "    return err\n"
   ]
  },
  {
   "cell_type": "code",
   "execution_count": 9,
   "metadata": {},
   "outputs": [],
   "source": [
    "def grad_b(w, b, x, y):\n",
    "    fx = f(w, b, x)\n",
    "    return (fx - y) * fx * (1 - fx)"
   ]
  },
  {
   "cell_type": "code",
   "execution_count": 10,
   "metadata": {},
   "outputs": [],
   "source": [
    "def grad_w(w, b, x, y):\n",
    "    fx = f(w, b, x)\n",
    "    return (fx - y) * fx * (1 - fx) * x"
   ]
  },
  {
   "cell_type": "code",
   "execution_count": 12,
   "metadata": {},
   "outputs": [],
   "source": [
    "def dp_gradient_descent(X, Y, w, b, eta, max_epochs): #Gradient Descent\n",
    "    dw = 0\n",
    "    db = 0\n",
    "    for i in range(max_epochs):\n",
    "        for x,y in zip(X,Y):\n",
    "            dw += grad_w(w, b, x, y)\n",
    "            db += grad_b(w, b, x, y)\n",
    "        w = w - eta * dw\n",
    "        b = b - eta * db\n",
    "        print(\"Epoch {} : Loss = {}\".format(i, error(w, b)))\n",
    "    return w,b"
   ]
  },
  {
   "cell_type": "code",
   "execution_count": null,
   "metadata": {},
   "outputs": [],
   "source": [
    "if __name__ == \"__main__\":\n",
    "    filname = 'A2_Q4_data.csv'\n",
    "    df = pd.read_csv(filename)\n",
    "    X = df['X']\n",
    "    Y = df['Y']\n",
    "    initial_w = 1\n",
    "    initial_b = 1\n",
    "    eta = 0.01\n",
    "    max_epochs = 100\n",
    "    w, b =do_gradient_descent(X, Y, initial_w, initial_b, eta, max_epochs)\n",
    "    error = error(w,b)\n",
    "    print(\"error ={}\")"
   ]
  }
 ],
 "metadata": {
  "kernelspec": {
   "display_name": "Python 3",
   "language": "python",
   "name": "python3"
  },
  "language_info": {
   "codemirror_mode": {
    "name": "ipython",
    "version": 3
   },
   "file_extension": ".py",
   "mimetype": "text/x-python",
   "name": "python",
   "nbconvert_exporter": "python",
   "pygments_lexer": "ipython3",
   "version": "3.6.4"
  }
 },
 "nbformat": 4,
 "nbformat_minor": 2
}
