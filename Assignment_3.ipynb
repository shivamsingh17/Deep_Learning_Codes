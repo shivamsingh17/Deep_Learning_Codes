{
 "cells": [
  {
   "cell_type": "code",
   "execution_count": 1,
   "metadata": {},
   "outputs": [],
   "source": [
    "import numpy as np\n",
    "X = np.array([1.1, 5.0, 2.8, 7.3])  # evidence for each choice\n",
    "theta = 2.0                         # determinism parameter\n",
    "\n",
    "ps = np.exp(X * theta)\n",
    "ps /= np.sum(ps)"
   ]
  },
  {
   "cell_type": "code",
   "execution_count": 2,
   "metadata": {},
   "outputs": [
    {
     "data": {
      "text/plain": [
       "array([4.07708656e-06, 9.95054552e-03, 1.22166230e-04, 9.89923211e-01])"
      ]
     },
     "execution_count": 2,
     "metadata": {},
     "output_type": "execute_result"
    }
   ],
   "source": [
    "ps"
   ]
  },
  {
   "cell_type": "code",
   "execution_count": 3,
   "metadata": {},
   "outputs": [
    {
     "data": {
      "text/plain": [
       "0.989923211165455"
      ]
     },
     "execution_count": 3,
     "metadata": {},
     "output_type": "execute_result"
    }
   ],
   "source": [
    "np.amax(ps)#question 7"
   ]
  },
  {
   "cell_type": "code",
   "execution_count": 4,
   "metadata": {},
   "outputs": [
    {
     "data": {
      "text/plain": [
       "1.0"
      ]
     },
     "execution_count": 4,
     "metadata": {},
     "output_type": "execute_result"
    }
   ],
   "source": [
    "a = np.sum(ps)\n",
    "a"
   ]
  },
  {
   "cell_type": "code",
   "execution_count": 5,
   "metadata": {},
   "outputs": [
    {
     "data": {
      "text/plain": [
       "-2.3025850929940455"
      ]
     },
     "execution_count": 5,
     "metadata": {},
     "output_type": "execute_result"
    }
   ],
   "source": [
    "np.log(0.1)"
   ]
  },
  {
   "cell_type": "code",
   "execution_count": 6,
   "metadata": {},
   "outputs": [],
   "source": [
    "a=-(.3*np.log(0.5) + .5*np.log(0.25) + .2*np.log(0.25))"
   ]
  },
  {
   "cell_type": "code",
   "execution_count": 7,
   "metadata": {},
   "outputs": [
    {
     "data": {
      "text/plain": [
       "1.178350206951907"
      ]
     },
     "execution_count": 7,
     "metadata": {},
     "output_type": "execute_result"
    }
   ],
   "source": [
    "a"
   ]
  },
  {
   "cell_type": "code",
   "execution_count": 8,
   "metadata": {},
   "outputs": [
    {
     "data": {
      "text/plain": [
       "array([0.09620484, 0.00237852, 0.3194113 , 0.58200534])"
      ]
     },
     "execution_count": 8,
     "metadata": {},
     "output_type": "execute_result"
    }
   ],
   "source": [
    "X = np.array([1.2, -2.5, 2.4, 3])\n",
    "X = np.exp(X)\n",
    "X = X/np.sum(X)\n",
    "\n",
    "X\n"
   ]
  },
  {
   "cell_type": "code",
   "execution_count": 9,
   "metadata": {},
   "outputs": [
    {
     "data": {
      "text/plain": [
       "1.0"
      ]
     },
     "execution_count": 9,
     "metadata": {},
     "output_type": "execute_result"
    }
   ],
   "source": [
    "np.sum(X)"
   ]
  },
  {
   "cell_type": "code",
   "execution_count": 11,
   "metadata": {},
   "outputs": [
    {
     "name": "stdout",
     "output_type": "stream",
     "text": [
      "Predicted Output: \n",
      "[0.13239166 0.16999425 0.22946824 0.18787271 0.28027314]\n"
     ]
    }
   ],
   "source": [
    "import numpy as np\n",
    "\n",
    "# X = (hours sleeping, hours studying), y = score on test\n",
    "X = np.array((1.5, 2.5, 3), dtype=float)\n",
    "b1 = np.array((0.1, 0.2, 0.3, 0.4), dtype=float)\n",
    "b2 =np.array((5.2, 3.2, 4.3), dtype=float)\n",
    "b3 = np.array((0.2, 0.45, 0.75, 0.55, 0.95), dtype=float)\n",
    "#y = np.array(([92], [86], [89]), dtype=float)\n",
    "\n",
    "# scale units\n",
    "#X = X/np.amax(X, axis=0) # maximum of X array\n",
    "#y = y/100 # max test score is 100\n",
    "\n",
    "class Neural_Network(object):\n",
    "  def __init__(self):\n",
    "    #parameters\n",
    "    self.inputSize = 3\n",
    "    self.outputSize = 5\n",
    "    self.hidden_layer_1_Size = 4\n",
    "    self.hidden_layer_2_Size = 3\n",
    "#https://docs.scipy.org/doc/numpy/reference/generated/numpy.full.html#numpy.full\n",
    "    #weights\n",
    "    self.W1 = np.full((self.inputSize, self.hidden_layer_1_Size), 0.05) #  weight matrix from input to hidden layer\n",
    "    self.W2 = np.full((self.hidden_layer_1_Size, self.hidden_layer_2_Size), 0.025)\n",
    "    self.W3 = np.full((self.hidden_layer_2_Size, self.outputSize), 1.0)# weight matrix from hidden to output layer\n",
    "\n",
    "  def forward(self, X):\n",
    "    #forward propagation through our network\n",
    "    self.z = np.dot(X, self.W1) + b1 # dot product of X (input) and first set  weights\n",
    "    self.z2 = self.sigmoid(self.z) # activation function\n",
    "    self.z3 = np.dot(self.z2, self.W2) + b2\n",
    "    self.z4 = self.sigmoid(self.z3)\n",
    "    self.z5 = np.dot(self.z4, self.W3) + b3\n",
    "    o = self.softmax(self.z5) # final activation function\n",
    "    return o\n",
    "\n",
    "  def sigmoid(self, s):\n",
    "    # activation function\n",
    "    return 1/(1+np.exp(-s))\n",
    "\n",
    "  def softmax(self, x):\n",
    "    \"\"\"Compute softmax values for each sets of scores in x.\"\"\"\n",
    "    e_x = np.exp(x)\n",
    "    return e_x / e_x.sum(axis=0)\n",
    "\n",
    "NN = Neural_Network()\n",
    "\n",
    "#defining our output\n",
    "o = NN.forward(X)\n",
    "\n",
    "print( \"Predicted Output: \\n\" + str(o))\n"
   ]
  },
  {
   "cell_type": "code",
   "execution_count": null,
   "metadata": {},
   "outputs": [],
   "source": []
  }
 ],
 "metadata": {
  "kernelspec": {
   "display_name": "Python 3",
   "language": "python",
   "name": "python3"
  },
  "language_info": {
   "codemirror_mode": {
    "name": "ipython",
    "version": 3
   },
   "file_extension": ".py",
   "mimetype": "text/x-python",
   "name": "python",
   "nbconvert_exporter": "python",
   "pygments_lexer": "ipython3",
   "version": "3.6.4"
  }
 },
 "nbformat": 4,
 "nbformat_minor": 2
}
