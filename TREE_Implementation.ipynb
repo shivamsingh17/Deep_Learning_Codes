{
  "nbformat": 4,
  "nbformat_minor": 0,
  "metadata": {
    "colab": {
      "name": "TREE Implementation.ipynb",
      "version": "0.3.2",
      "provenance": [],
      "include_colab_link": true
    },
    "kernelspec": {
      "display_name": "Python 3",
      "language": "python",
      "name": "python3"
    }
  },
  "cells": [
    {
      "cell_type": "markdown",
      "metadata": {
        "id": "view-in-github",
        "colab_type": "text"
      },
      "source": [
        "[View in Colaboratory](https://colab.research.google.com/github/shivamsingh17/Deep_Learning_Codes/blob/master/TREE_Implementation.ipynb)"
      ]
    },
    {
      "metadata": {
        "id": "4SMJQfJgLJcc",
        "colab_type": "code",
        "colab": {}
      },
      "cell_type": "code",
      "source": [
        "class Node(object):\n",
        "    def __init__(self,val):\n",
        "        self.key=val\n",
        "        self.left=None\n",
        "        self.right=None\n",
        "        self.p=None"
      ],
      "execution_count": 0,
      "outputs": []
    },
    {
      "metadata": {
        "id": "1ZqGPx5oLJcj",
        "colab_type": "code",
        "colab": {}
      },
      "cell_type": "code",
      "source": [
        "class Tree(object):\n",
        "    def __init__(self):\n",
        "        self.root=None\n",
        "    def insert(self,T,z):\n",
        "        y=None\n",
        "        x=T.root\n",
        "        while x is not None:\n",
        "            y=x\n",
        "            if z.key<y.key:\n",
        "                x=x.left\n",
        "            else:\n",
        "                x=x.right\n",
        "        z.p=y\n",
        "        if y==None:\n",
        "            T.root=z\n",
        "        elif z.key<y.key:\n",
        "            y.left=z\n",
        "        else:\n",
        "            y.right=z\n",
        "    \n",
        "    def inorder(self,T):\n",
        "        if T is not None:\n",
        "            inorder(T.root.left)\n",
        "            print(x.key)\n",
        "            inorder(T.root.right)"
      ],
      "execution_count": 0,
      "outputs": []
    },
    {
      "metadata": {
        "id": "TKDwF_PbLJcp",
        "colab_type": "code",
        "colab": {
          "base_uri": "https://localhost:8080/",
          "height": 195
        },
        "outputId": "f151d8b1-1390-46ec-be83-363433bcdd74"
      },
      "cell_type": "code",
      "source": [
        "tree=Tree()\n",
        "tree.insert(tree,Node(5))\n",
        "tree.insert(tree,Node(1))\n",
        "tree.insert(tree,Node(7))\n",
        "tree.insert(tree,Node(3))\n",
        "tree.insert(tree,Node(10))\n",
        "tree.inorder(tree(self))"
      ],
      "execution_count": 13,
      "outputs": [
        {
          "output_type": "error",
          "ename": "NameError",
          "evalue": "ignored",
          "traceback": [
            "\u001b[0;31m---------------------------------------------------------------------------\u001b[0m",
            "\u001b[0;31mNameError\u001b[0m                                 Traceback (most recent call last)",
            "\u001b[0;32m<ipython-input-13-29bf6e417f16>\u001b[0m in \u001b[0;36m<module>\u001b[0;34m()\u001b[0m\n\u001b[1;32m      5\u001b[0m \u001b[0mtree\u001b[0m\u001b[0;34m.\u001b[0m\u001b[0minsert\u001b[0m\u001b[0;34m(\u001b[0m\u001b[0mtree\u001b[0m\u001b[0;34m,\u001b[0m\u001b[0mNode\u001b[0m\u001b[0;34m(\u001b[0m\u001b[0;36m3\u001b[0m\u001b[0;34m)\u001b[0m\u001b[0;34m)\u001b[0m\u001b[0;34m\u001b[0m\u001b[0m\n\u001b[1;32m      6\u001b[0m \u001b[0mtree\u001b[0m\u001b[0;34m.\u001b[0m\u001b[0minsert\u001b[0m\u001b[0;34m(\u001b[0m\u001b[0mtree\u001b[0m\u001b[0;34m,\u001b[0m\u001b[0mNode\u001b[0m\u001b[0;34m(\u001b[0m\u001b[0;36m10\u001b[0m\u001b[0;34m)\u001b[0m\u001b[0;34m)\u001b[0m\u001b[0;34m\u001b[0m\u001b[0m\n\u001b[0;32m----> 7\u001b[0;31m \u001b[0mtree\u001b[0m\u001b[0;34m.\u001b[0m\u001b[0minorder\u001b[0m\u001b[0;34m(\u001b[0m\u001b[0mtree\u001b[0m\u001b[0;34m(\u001b[0m\u001b[0mself\u001b[0m\u001b[0;34m)\u001b[0m\u001b[0;34m)\u001b[0m\u001b[0;34m\u001b[0m\u001b[0m\n\u001b[0m",
            "\u001b[0;31mNameError\u001b[0m: name 'self' is not defined"
          ]
        }
      ]
    },
    {
      "metadata": {
        "id": "it-DyZBlRg55",
        "colab_type": "code",
        "colab": {
          "base_uri": "https://localhost:8080/",
          "height": 600
        },
        "outputId": "498e63e0-c812-4e46-a4f4-447614d9b09a"
      },
      "cell_type": "code",
      "source": [
        "class Node:\n",
        "\n",
        "      def __init__(self,info): #constructor of class\n",
        "\n",
        "          self.info = info  #information for node\n",
        "          self.left = None  #left leef\n",
        "          self.right = None #right leef\n",
        "          self.level = None #level none defined\n",
        "\n",
        "      def __str__(self):\n",
        "\n",
        "          return str(self.info) #return as string\n",
        "\n",
        "\n",
        "class searchtree:\n",
        "\n",
        "      def __init__(self): #constructor of class\n",
        "\n",
        "          self.root = None\n",
        "\n",
        "\n",
        "      def create(self,val):  #create binary search tree nodes\n",
        "\n",
        "          if self.root == None:\n",
        "\n",
        "             self.root = Node(val)\n",
        "\n",
        "          else:\n",
        "\n",
        "             current = self.root\n",
        "\n",
        "             while 1:\n",
        "\n",
        "                 if val < current.info:\n",
        "\n",
        "                   if current.left:\n",
        "                      current = current.left\n",
        "                   else:\n",
        "                      current.left = Node(val)\n",
        "                      break;      \n",
        "\n",
        "                 elif val > current.info:\n",
        "                 \n",
        "                    if current.right:\n",
        "                       current = current.right\n",
        "                    else:\n",
        "                       current.right = Node(val)\n",
        "                       break;      \n",
        "\n",
        "                 else:\n",
        "                    break \n",
        "\n",
        "      def bft(self): #Breadth-First Traversal\n",
        "\n",
        "          self.root.level = 0 \n",
        "          queue = [self.root]\n",
        "          out = []\n",
        "          current_level = self.root.level\n",
        "\n",
        "          while len(queue) > 0:\n",
        "                 \n",
        "             current_node = queue.pop(0)\n",
        " \n",
        "             if current_node.level > current_level:\n",
        "                current_level += 1\n",
        "                out.append(\"\\n\")\n",
        "\n",
        "             out.append(str(current_node.info) + \" \")\n",
        "\n",
        "             if current_node.left:\n",
        "\n",
        "                current_node.left.level = current_level + 1\n",
        "                queue.append(current_node.left)\n",
        "                  \n",
        "\n",
        "             if current_node.right:\n",
        "\n",
        "                current_node.right.level = current_level + 1\n",
        "                queue.append(current_node.right)\n",
        "                      \n",
        "                 \n",
        "          print (\"\".join(out)  ) \n",
        "\n",
        "\n",
        "      def inorder(self,node):\n",
        "            \n",
        "           if node is not None:\n",
        "              \n",
        "              self.inorder(node.left)\n",
        "              print (node.info)\n",
        "              self.inorder(node.right)\n",
        "\n",
        "\n",
        "      def preorder(self,node):\n",
        "            \n",
        "           if node is not None:\n",
        "              \n",
        "              print( node.info)\n",
        "              self.preorder(node.left)\n",
        "              self.preorder(node.right)\n",
        "\n",
        "\n",
        "      def postorder(self,node):\n",
        "            \n",
        "           if node is not None:\n",
        "              \n",
        "              self.postorder(node.left)\n",
        "              self.postorder(node.right)\n",
        "              print (node.info)\n",
        "\n",
        "                        \n",
        "tree = searchtree()     \n",
        "arr = [8,3,1,6,4,7,10,14,13]\n",
        "for i in arr:\n",
        "    tree.create(i)\n",
        "print ('Breadth-First Traversal')\n",
        "tree.bft()\n",
        "print ('Inorder Traversal')\n",
        "tree.inorder(tree.root) \n",
        "print( 'Preorder Traversal')\n",
        "tree.preorder(tree.root) \n",
        "print ('Postorder Traversal')\n",
        "tree.postorder(tree.root) "
      ],
      "execution_count": 16,
      "outputs": [
        {
          "output_type": "stream",
          "text": [
            "Breadth-First Traversal\n",
            "8 \n",
            "3 10 \n",
            "1 6 14 \n",
            "4 7 13 \n",
            "Inorder Traversal\n",
            "1\n",
            "3\n",
            "4\n",
            "6\n",
            "7\n",
            "8\n",
            "10\n",
            "13\n",
            "14\n",
            "Preorder Traversal\n",
            "8\n",
            "3\n",
            "1\n",
            "6\n",
            "4\n",
            "7\n",
            "10\n",
            "14\n",
            "13\n",
            "Postorder Traversal\n",
            "1\n",
            "4\n",
            "7\n",
            "6\n",
            "3\n",
            "13\n",
            "14\n",
            "10\n",
            "8\n"
          ],
          "name": "stdout"
        }
      ]
    },
    {
      "metadata": {
        "id": "0l7q6BSWLJcz",
        "colab_type": "code",
        "colab": {}
      },
      "cell_type": "code",
      "source": [
        ""
      ],
      "execution_count": 0,
      "outputs": []
    }
  ]
}